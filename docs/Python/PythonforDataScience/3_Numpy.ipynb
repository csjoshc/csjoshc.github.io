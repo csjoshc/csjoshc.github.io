{
 "cells": [
  {
   "cell_type": "markdown",
   "metadata": {},
   "source": [
    "<head>",
    "<link rel=\"stylesheet\" href=\"../../../cssthemes/github.css\">",
    "<meta name=\"viewport\" content=\"initial-scale=1, width=device-width\">",
    "</head>"
   ]
  },
  {
   "cell_type": "code",
   "execution_count": 24,
   "metadata": {},
   "outputs": [
    {
     "name": "stdout",
     "output_type": "stream",
     "text": [
      "/home/jcmint/anaconda3/envs/learningenv/bin/python\n"
     ]
    }
   ],
   "source": [
    "import sys",
    "print(sys.executable)",
    "from IPython.core.interactiveshell import InteractiveShell",
    "InteractiveShell.ast_node_interactivity = \"all\"",
    "InteractiveShell.colors = \"Linux\"",
    "InteractiveShell.separate_in = 0",
    "from tabulate import tabulate"
   ]
  },
  {
   "cell_type": "markdown",
   "metadata": {},
   "source": [
    "# Numpy",
    "Numpy contains multidimensional arrays that have built-in functions based on compiled c code",
    "* Arrays in Numpy are fixed in size, unlike Python lists which have changeable sizes",
    "* Elements must all be the same type",
    "* Well optimized and useful matrix operations",
    "* Pandas are built on top of numpy",
    "* Matrices - Rank 2 ndarrays are a key feature",
    "When creating an array using `=` instead of np.array, the new reference points to the same object in memory. Therefore, if either the original or copy is mutated, the other will be updated as well"
   ]
  },
  {
   "cell_type": "code",
   "execution_count": 25,
   "metadata": {},
   "outputs": [
    {
     "name": "stdout",
     "output_type": "stream",
     "text": [
      "[[ 0  5 10]\n",
      " [ 2  4  6]] [ 0  5 10] [0 2]\n"
     ]
    }
   ],
   "source": [
    "import numpy as np",
    "a1 = np.array([[0, 5, 10], [2, 4, 6]])",
    "# Note that the col_slice is returned as a row. These are both 1D/Rank one arrays",
    "row_slice = a1[0,:]",
    "col_slice = a1[:,0]",
    "print(a1, row_slice, col_slice)"
   ]
  },
  {
   "cell_type": "markdown",
   "metadata": {},
   "source": [
    "Row and column slices will mutate along with the original array"
   ]
  },
  {
   "cell_type": "code",
   "execution_count": 26,
   "metadata": {},
   "outputs": [
    {
     "name": "stdout",
     "output_type": "stream",
     "text": [
      "[[ 1  5 10]\n",
      " [ 2  4  6]] [ 1  5 10] [1 2]\n"
     ]
    }
   ],
   "source": [
    "a1[0,0] = 1",
    "print(a1, row_slice, col_slice)"
   ]
  },
  {
   "cell_type": "markdown",
   "metadata": {},
   "source": [
    "Since the slices are 1D you can extract with just one index value"
   ]
  },
  {
   "cell_type": "code",
   "execution_count": 27,
   "metadata": {},
   "outputs": [
    {
     "name": "stdout",
     "output_type": "stream",
     "text": [
      "5 2\n"
     ]
    }
   ],
   "source": [
    "print(row_slice[1], col_slice[1])"
   ]
  },
  {
   "cell_type": "markdown",
   "metadata": {},
   "source": [
    "## Creating column array"
   ]
  },
  {
   "cell_type": "code",
   "execution_count": 28,
   "metadata": {},
   "outputs": [
    {
     "data": {
      "text/plain": [
       "array([[1],\n",
       "       [2],\n",
       "       [3],\n",
       "       [4]])"
      ]
     },
     "execution_count": 28,
     "metadata": {},
     "output_type": "execute_result"
    }
   ],
   "source": [
    "# Instead of:",
    "long = np.array([[1], [2], [3], [4]])",
    "# you can use `.T` (transposon) to easily create column array",
    "long2 = np.array([[1,2,3,4]]).T",
    "long2"
   ]
  },
  {
   "cell_type": "markdown",
   "metadata": {},
   "source": [
    "## Boolean indexing",
    "* Use conditional indexing to access and permute arrays"
   ]
  },
  {
   "cell_type": "code",
   "execution_count": 29,
   "metadata": {},
   "outputs": [
    {
     "data": {
      "text/plain": [
       "array([[False, False,  True],\n",
       "       [False, False,  True]])"
      ]
     },
     "execution_count": 29,
     "metadata": {},
     "output_type": "execute_result"
    }
   ],
   "source": [
    "a1 = np.array([[0, 5, 10], [2, 4, 6]])",
    "# Creating a boolean array using `=` operator - but the boolean isn't mutated when the original is.",
    "small_num = a1 > 5",
    "small_num"
   ]
  },
  {
   "cell_type": "markdown",
   "metadata": {},
   "source": [
    "The boolean array doesn't get mutated along with the original one"
   ]
  },
  {
   "cell_type": "code",
   "execution_count": 30,
   "metadata": {},
   "outputs": [
    {
     "name": "stdout",
     "output_type": "stream",
     "text": [
      "[[ 0  5 10]\n",
      " [ 6  7  8]] \n",
      " [[False False  True]\n",
      " [False False  True]]\n"
     ]
    }
   ],
   "source": [
    "a1[1,:] = [6, 7, 8]",
    "print(a1, \"\\n\", small_num)"
   ]
  },
  {
   "cell_type": "markdown",
   "metadata": {},
   "source": [
    "Get a list of values in the arrays for which conditional is TRUE"
   ]
  },
  {
   "cell_type": "code",
   "execution_count": 31,
   "metadata": {},
   "outputs": [
    {
     "data": {
      "text/plain": [
       "array([10,  6,  7,  8])"
      ]
     },
     "execution_count": 31,
     "metadata": {},
     "output_type": "execute_result"
    }
   ],
   "source": [
    "a1[a1 > 5]"
   ]
  },
  {
   "cell_type": "markdown",
   "metadata": {},
   "source": [
    "### Multiple conditionals and assigning values where **True**"
   ]
  },
  {
   "cell_type": "code",
   "execution_count": 32,
   "metadata": {},
   "outputs": [
    {
     "name": "stdout",
     "output_type": "stream",
     "text": [
      "[[ 0  5 10]\n",
      " [ 6  7  8]]\n"
     ]
    },
    {
     "data": {
      "text/plain": [
       "array([5, 6, 7])"
      ]
     },
     "execution_count": 32,
     "metadata": {},
     "output_type": "execute_result"
    }
   ],
   "source": [
    "print(a1)",
    "# Get a list of values in the arrays for which multiple conditionals are TRUE",
    "a1[(a1 > 2) & (a1 < 8)]"
   ]
  },
  {
   "cell_type": "markdown",
   "metadata": {},
   "source": [
    "### Assigning new values using logical filter"
   ]
  },
  {
   "cell_type": "code",
   "execution_count": 33,
   "metadata": {},
   "outputs": [
    {
     "data": {
      "text/plain": [
       "array([[100,   5, 110],\n",
       "       [106,   7, 108]])"
      ]
     },
     "execution_count": 33,
     "metadata": {},
     "output_type": "execute_result"
    }
   ],
   "source": [
    "a1[a1 % 2 == 0] += 100",
    "a1"
   ]
  },
  {
   "cell_type": "markdown",
   "metadata": {},
   "source": [
    "## `np.array` data types",
    "* Array types are explicit - you can't add in values of a different type from initialization time",
    "* you can force int and float array to have each other's data type"
   ]
  },
  {
   "cell_type": "code",
   "execution_count": 34,
   "metadata": {},
   "outputs": [
    {
     "name": "stdout",
     "output_type": "stream",
     "text": [
      "int64 float64 float64 int64 [1 2]\n"
     ]
    }
   ],
   "source": [
    "ex1 = np.array([1,2])",
    "ex2 = np.array([1.1, 2.2])",
    "ex3 = np.array(ex1, dtype = np.float64)",
    "ex4 = np.array(ex2, dtype=np.int64)",
    "# Coerced int array to float, float to int (rounding DOWN to nearest int)",
    "print(ex1.dtype, ex2.dtype, ex3.dtype, ex4.dtype, ex4)"
   ]
  },
  {
   "cell_type": "markdown",
   "metadata": {},
   "source": [
    "In general, its preferable to have arrays in floating point, so Python won't give errors when assigning values and you avoid losing precision.",
    "* Arrays will be upcast to higher precision types when performing operations",
    "* Array operations are NOT matrix operations:"
   ]
  },
  {
   "cell_type": "code",
   "execution_count": 35,
   "metadata": {},
   "outputs": [
    {
     "data": {
      "text/plain": [
       "array([[ 8,  8],\n",
       "       [15, 15]])"
      ]
     },
     "execution_count": 35,
     "metadata": {},
     "output_type": "execute_result"
    }
   ],
   "source": [
    "ex5 = np.array([[2, 2], [3, 3]])",
    "ex6 = np.array([[4, 4], [5, 5]])",
    "ex5 * ex6"
   ]
  },
  {
   "cell_type": "markdown",
   "metadata": {},
   "source": [
    "## `np.array` operations - `array.dot(), np.arange(), array.T, array.where()`",
    "* For matrix math, use the `np.array.*` functions instead of generic operations (*)"
   ]
  },
  {
   "cell_type": "code",
   "execution_count": 36,
   "metadata": {},
   "outputs": [
    {
     "name": "stdout",
     "output_type": "stream",
     "text": [
      "[[2 2]\n",
      " [3 3]] \n",
      " [[4 4]\n",
      " [5 5]]\n"
     ]
    },
    {
     "data": {
      "text/plain": [
       "array([[18, 18],\n",
       "       [27, 27]])"
      ]
     },
     "execution_count": 36,
     "metadata": {},
     "output_type": "execute_result"
    }
   ],
   "source": [
    "print(ex5, \"\\n\", ex6)",
    "# Dot product (matrix product)",
    "# As expected, the result 18 = 2 * 4 + 2 * 5",
    "ex5.dot(ex6)"
   ]
  },
  {
   "cell_type": "markdown",
   "metadata": {},
   "source": [
    "### Get a sequence within a range by a certain step"
   ]
  },
  {
   "cell_type": "code",
   "execution_count": 37,
   "metadata": {},
   "outputs": [
    {
     "data": {
      "text/plain": [
       "array([1, 3, 5, 7, 9])"
      ]
     },
     "execution_count": 37,
     "metadata": {},
     "output_type": "execute_result"
    }
   ],
   "source": [
    "np.arange(1, 10, 2)"
   ]
  },
  {
   "cell_type": "markdown",
   "metadata": {},
   "source": [
    "### Filter values from one of two matrices",
    "If true, grab from the first matrix, else grab from second"
   ]
  },
  {
   "cell_type": "code",
   "execution_count": 38,
   "metadata": {},
   "outputs": [
    {
     "data": {
      "text/plain": [
       "array([[2, 4],\n",
       "       [5, 3]])"
      ]
     },
     "execution_count": 38,
     "metadata": {},
     "output_type": "execute_result"
    }
   ],
   "source": [
    "filter = np.array([[True, False], [False, True]])",
    "np.where(filter, ex5, ex6)"
   ]
  },
  {
   "cell_type": "markdown",
   "metadata": {},
   "source": [
    "## np statistics and set operations - array. `min(), max() ,mean(), sum(), median()`",
    "For these functions, you can specify axis = 0 or 1 to get values by column or row"
   ]
  },
  {
   "cell_type": "code",
   "execution_count": 39,
   "metadata": {},
   "outputs": [
    {
     "data": {
      "text/plain": [
       "(array([[100,   5, 110],\n",
       "        [106,   7, 108]]), array([106,   7, 110]), array([110, 108]))"
      ]
     },
     "execution_count": 39,
     "metadata": {},
     "output_type": "execute_result"
    }
   ],
   "source": [
    "a1, a1.max(axis = 0), a1.max(axis = 1)"
   ]
  },
  {
   "cell_type": "markdown",
   "metadata": {},
   "source": [
    "## Sorting Arrays and finding uniques - **array.sort(), np.unique(array)**"
   ]
  },
  {
   "cell_type": "code",
   "execution_count": 40,
   "metadata": {},
   "outputs": [
    {
     "name": "stdout",
     "output_type": "stream",
     "text": [
      "[[100   5 108]\n",
      " [106   7 110]]\n",
      "[[  5 100 108]\n",
      " [  7 106 110]]\n"
     ]
    },
    {
     "data": {
      "text/plain": [
       "array([  5,   7, 100, 106, 108, 110])"
      ]
     },
     "execution_count": 40,
     "metadata": {},
     "output_type": "execute_result"
    }
   ],
   "source": [
    "# If needed, create a new array to avoid modifying the original array",
    "# Sort by both rows and columns",
    "sorted = np.array(a1)",
    "sorted.sort(axis = 0)",
    "print(sorted)",
    "sorted.sort(axis = 1)",
    "print(sorted)",
    "print(np.unique(a1))"
   ]
  },
  {
   "cell_type": "markdown",
   "metadata": {},
   "source": [
    "## Set operations on arrays - `.intersect1d(), .setdiff1d(), .in1d()`"
   ]
  },
  {
   "cell_type": "code",
   "execution_count": 41,
   "metadata": {},
   "outputs": [],
   "source": [
    "s1 = np.array(['a', 'b', 'c'])",
    "s2 = np.array(['b', 'c', 'd'])"
   ]
  },
  {
   "cell_type": "markdown",
   "metadata": {},
   "source": [
    "### `intersect1d`",
    "Values that are in both"
   ]
  },
  {
   "cell_type": "code",
   "execution_count": 42,
   "metadata": {},
   "outputs": [
    {
     "data": {
      "text/plain": [
       "array(['b', 'c'], dtype='<U1')"
      ]
     },
     "execution_count": 42,
     "metadata": {},
     "output_type": "execute_result"
    }
   ],
   "source": [
    "np.intersect1d(s1, s2)"
   ]
  },
  {
   "cell_type": "markdown",
   "metadata": {},
   "source": [
    "### `setdiff1d*`",
    "`['a']`, elements IN s1 but NOT in s2"
   ]
  },
  {
   "cell_type": "code",
   "execution_count": 43,
   "metadata": {},
   "outputs": [
    {
     "data": {
      "text/plain": [
       "array(['a'], dtype='<U1')"
      ]
     },
     "execution_count": 43,
     "metadata": {},
     "output_type": "execute_result"
    }
   ],
   "source": [
    "np.setdiff1d(s1, s2)"
   ]
  },
  {
   "cell_type": "markdown",
   "metadata": {},
   "source": [
    "`['d']`, elements IN s2 but NOT in s1"
   ]
  },
  {
   "cell_type": "code",
   "execution_count": 44,
   "metadata": {},
   "outputs": [
    {
     "data": {
      "text/plain": [
       "array(['a'], dtype='<U1')"
      ]
     },
     "execution_count": 44,
     "metadata": {},
     "output_type": "execute_result"
    }
   ],
   "source": [
    "np.setdiff1d(s1, s2)"
   ]
  },
  {
   "cell_type": "markdown",
   "metadata": {},
   "source": [
    "### `in1d`",
    "`[False  True  True] `- which elements of s1 are in s2? boolean"
   ]
  },
  {
   "cell_type": "code",
   "execution_count": 45,
   "metadata": {},
   "outputs": [
    {
     "data": {
      "text/plain": [
       "array([False,  True,  True])"
      ]
     },
     "execution_count": 45,
     "metadata": {},
     "output_type": "execute_result"
    }
   ],
   "source": [
    "np.in1d(s1, s2)"
   ]
  },
  {
   "cell_type": "markdown",
   "metadata": {},
   "source": [
    "## Broadcasting",
    "Perform operations on differently sized arrays. Preset the values to be added, then spread them over another array. You can broadcast either a 1d array with appropriate dimensions in one dimension, or a scalar value."
   ]
  },
  {
   "cell_type": "code",
   "execution_count": 46,
   "metadata": {},
   "outputs": [
    {
     "data": {
      "text/plain": [
       "array([[1., 0., 2.],\n",
       "       [1., 0., 2.],\n",
       "       [1., 0., 2.],\n",
       "       [1., 0., 2.]])"
      ]
     },
     "execution_count": 46,
     "metadata": {},
     "output_type": "execute_result"
    }
   ],
   "source": [
    "start = np.zeros((4,3)) # zeros array 4 rows 3 columns",
    "add_rows = np.array([1, 0, 2])",
    "y = start + add_rows",
    "y"
   ]
  }
 ],
 "metadata": {
  "kernelspec": {
   "display_name": "Python 3",
   "language": "python",
   "name": "python3"
  },
  "language_info": {
   "codemirror_mode": {
    "name": "ipython",
    "version": 3
   },
   "file_extension": ".py",
   "mimetype": "text/x-python",
   "name": "python",
   "nbconvert_exporter": "python",
   "pygments_lexer": "ipython3",
   "version": "3.7.2"
  }
 },
 "nbformat": 4,
 "nbformat_minor": 2
}