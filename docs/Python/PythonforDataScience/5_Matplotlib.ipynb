{
 "cells": [
  {
   "cell_type": "markdown",
   "metadata": {},
   "source": [
    "<head>",
    "<link rel=\"stylesheet\" href=\"../../../cssthemes/github.css\">",
    "<meta name=\"viewport\" content=\"initial-scale=1, width=device-width\">",
    "</head>"
   ]
  },
  {
   "cell_type": "code",
   "execution_count": 12,
   "metadata": {},
   "outputs": [
    {
     "name": "stdout",
     "output_type": "stream",
     "text": [
      "/home/jcmint/anaconda3/envs/learningenv/bin/python\n"
     ]
    }
   ],
   "source": [
    "import sys",
    "print(sys.executable)",
    "from IPython.core.interactiveshell import InteractiveShell",
    "InteractiveShell.ast_node_interactivity = \"all\"",
    "InteractiveShell.colors = \"Linux\"",
    "InteractiveShell.separate_in = 0",
    "import pandas as pd",
    "import matplotlib.pyplot as plt",
    "import numpy as np",
    "from matplotlib import style",
    "style.use('fivethirtyeight')",
    "import os, sys"
   ]
  },
  {
   "cell_type": "markdown",
   "metadata": {},
   "source": [
    "# Data Visualization",
    "Simplifies data interpretation.",
    "**Conceptual or data-driven**",
    "For example, a theoretical plot - supply & demand, stress & strain.",
    "**Declarative or Exploratory**",
    "Presentation of real-world data to reach a final conclusion.",
    "Exploratory is just for quick analysis rather than polishing the visualization itself.",
    "**Principles of Good Design**",
    "* Trustworthy",
    "* Evidence for a figure should be in the data. E.g. zooming in on an axis to exaggerate a change in a value is not trustworthy.",
    "* Accessible",
    "* Make visuals appropriate for audience, and to fulfill its intended purpose",
    "* Elegant"
   ]
  },
  {
   "cell_type": "markdown",
   "metadata": {},
   "source": [
    "## Visualization libraries - Matplotlib",
    "Matplotlib is the main go-to for day to day visualization; others have specialization for specific use cases.",
    "Common components include a chart type, axes ranges and labels, figure labels, legend, aesthetics and annotations.",
    "* Using [the Indicators](https://www.kaggle.com/worldbank/world-development-indicators/version/2#Indicators.csv) data set."
   ]
  },
  {
   "cell_type": "code",
   "execution_count": 2,
   "metadata": {},
   "outputs": [],
   "source": [
    "indicators = pd.read_csv('../../../../data/w5vis/Indicators.csv')",
    "# no need to run often, so separate into its own code cell."
   ]
  },
  {
   "cell_type": "code",
   "execution_count": 3,
   "metadata": {},
   "outputs": [
    {
     "data": {
      "text/html": [
       "<div>\n",
       "<style scoped>\n",
       "    .dataframe tbody tr th:only-of-type {\n",
       "        vertical-align: middle;\n",
       "    }\n",
       "\n",
       "    .dataframe tbody tr th {\n",
       "        vertical-align: top;\n",
       "    }\n",
       "\n",
       "    .dataframe thead th {\n",
       "        text-align: right;\n",
       "    }\n",
       "</style>\n",
       "<table border=\"1\" class=\"dataframe\">\n",
       "  <thead>\n",
       "    <tr style=\"text-align: right;\">\n",
       "      <th></th>\n",
       "      <th>CountryName</th>\n",
       "      <th>CountryCode</th>\n",
       "      <th>IndicatorName</th>\n",
       "      <th>IndicatorCode</th>\n",
       "      <th>Year</th>\n",
       "      <th>Value</th>\n",
       "    </tr>\n",
       "  </thead>\n",
       "  <tbody>\n",
       "    <tr>\n",
       "      <th>0</th>\n",
       "      <td>Arab World</td>\n",
       "      <td>ARB</td>\n",
       "      <td>Adolescent fertility rate (births per 1,000 wo...</td>\n",
       "      <td>SP.ADO.TFRT</td>\n",
       "      <td>1960</td>\n",
       "      <td>1.335609e+02</td>\n",
       "    </tr>\n",
       "    <tr>\n",
       "      <th>1</th>\n",
       "      <td>Arab World</td>\n",
       "      <td>ARB</td>\n",
       "      <td>Age dependency ratio (% of working-age populat...</td>\n",
       "      <td>SP.POP.DPND</td>\n",
       "      <td>1960</td>\n",
       "      <td>8.779760e+01</td>\n",
       "    </tr>\n",
       "    <tr>\n",
       "      <th>2</th>\n",
       "      <td>Arab World</td>\n",
       "      <td>ARB</td>\n",
       "      <td>Age dependency ratio, old (% of working-age po...</td>\n",
       "      <td>SP.POP.DPND.OL</td>\n",
       "      <td>1960</td>\n",
       "      <td>6.634579e+00</td>\n",
       "    </tr>\n",
       "    <tr>\n",
       "      <th>3</th>\n",
       "      <td>Arab World</td>\n",
       "      <td>ARB</td>\n",
       "      <td>Age dependency ratio, young (% of working-age ...</td>\n",
       "      <td>SP.POP.DPND.YG</td>\n",
       "      <td>1960</td>\n",
       "      <td>8.102333e+01</td>\n",
       "    </tr>\n",
       "    <tr>\n",
       "      <th>4</th>\n",
       "      <td>Arab World</td>\n",
       "      <td>ARB</td>\n",
       "      <td>Arms exports (SIPRI trend indicator values)</td>\n",
       "      <td>MS.MIL.XPRT.KD</td>\n",
       "      <td>1960</td>\n",
       "      <td>3.000000e+06</td>\n",
       "    </tr>\n",
       "  </tbody>\n",
       "</table>\n",
       "</div>"
      ],
      "text/plain": [
       "  CountryName CountryCode                                      IndicatorName  \\\n",
       "0  Arab World         ARB  Adolescent fertility rate (births per 1,000 wo...   \n",
       "1  Arab World         ARB  Age dependency ratio (% of working-age populat...   \n",
       "2  Arab World         ARB  Age dependency ratio, old (% of working-age po...   \n",
       "3  Arab World         ARB  Age dependency ratio, young (% of working-age ...   \n",
       "4  Arab World         ARB        Arms exports (SIPRI trend indicator values)   \n",
       "\n",
       "    IndicatorCode  Year         Value  \n",
       "0     SP.ADO.TFRT  1960  1.335609e+02  \n",
       "1     SP.POP.DPND  1960  8.779760e+01  \n",
       "2  SP.POP.DPND.OL  1960  6.634579e+00  \n",
       "3  SP.POP.DPND.YG  1960  8.102333e+01  \n",
       "4  MS.MIL.XPRT.KD  1960  3.000000e+06  "
      ]
     },
     "execution_count": 3,
     "metadata": {},
     "output_type": "execute_result"
    },
    {
     "name": "stdout",
     "output_type": "stream",
     "text": [
      "country num: 247\n",
      "country codes: 247\n",
      "indicators: 1344\n",
      "56 1960 to 2015\n"
     ]
    }
   ],
   "source": [
    "# print head of dataframe",
    "indicators.head()",
    "# unique country names",
    "countries = indicators['CountryName'].unique().tolist()",
    "print(\"country num:\", len(countries))",
    "# number of country codes",
    "cocodes = indicators['CountryCode'].unique().tolist()",
    "print(\"country codes:\", len(cocodes))",
    "# how many indicators?",
    "inds = indicators['IndicatorName'].unique().tolist()",
    "print(\"indicators:\", len(inds))",
    "# years and range of data",
    "years = indicators['Year'].unique().tolist()",
    "print(len(years), min(years), \"to\", max(years))"
   ]
  },
  {
   "cell_type": "markdown",
   "metadata": {},
   "source": [
    "This is actually a 4D dataset, with country, indicator, year and value. I would say its combination of the first three that match each value."
   ]
  },
  {
   "cell_type": "code",
   "execution_count": 4,
   "metadata": {},
   "outputs": [
    {
     "data": {
      "text/html": [
       "<div>\n",
       "<style scoped>\n",
       "    .dataframe tbody tr th:only-of-type {\n",
       "        vertical-align: middle;\n",
       "    }\n",
       "\n",
       "    .dataframe tbody tr th {\n",
       "        vertical-align: top;\n",
       "    }\n",
       "\n",
       "    .dataframe thead th {\n",
       "        text-align: right;\n",
       "    }\n",
       "</style>\n",
       "<table border=\"1\" class=\"dataframe\">\n",
       "  <thead>\n",
       "    <tr style=\"text-align: right;\">\n",
       "      <th></th>\n",
       "      <th>CountryName</th>\n",
       "      <th>CountryCode</th>\n",
       "      <th>IndicatorName</th>\n",
       "      <th>IndicatorCode</th>\n",
       "      <th>Year</th>\n",
       "      <th>Value</th>\n",
       "    </tr>\n",
       "  </thead>\n",
       "  <tbody>\n",
       "    <tr>\n",
       "      <th>15382</th>\n",
       "      <td>Mexico</td>\n",
       "      <td>MEX</td>\n",
       "      <td>Population in the largest city (% of urban pop...</td>\n",
       "      <td>EN.URB.LCTY.UR.ZS</td>\n",
       "      <td>1960</td>\n",
       "      <td>28.280377</td>\n",
       "    </tr>\n",
       "    <tr>\n",
       "      <th>40837</th>\n",
       "      <td>Mexico</td>\n",
       "      <td>MEX</td>\n",
       "      <td>Population in the largest city (% of urban pop...</td>\n",
       "      <td>EN.URB.LCTY.UR.ZS</td>\n",
       "      <td>1961</td>\n",
       "      <td>28.287121</td>\n",
       "    </tr>\n",
       "    <tr>\n",
       "      <th>68643</th>\n",
       "      <td>Mexico</td>\n",
       "      <td>MEX</td>\n",
       "      <td>Population in the largest city (% of urban pop...</td>\n",
       "      <td>EN.URB.LCTY.UR.ZS</td>\n",
       "      <td>1962</td>\n",
       "      <td>28.305114</td>\n",
       "    </tr>\n",
       "    <tr>\n",
       "      <th>97213</th>\n",
       "      <td>Mexico</td>\n",
       "      <td>MEX</td>\n",
       "      <td>Population in the largest city (% of urban pop...</td>\n",
       "      <td>EN.URB.LCTY.UR.ZS</td>\n",
       "      <td>1963</td>\n",
       "      <td>28.334391</td>\n",
       "    </tr>\n",
       "    <tr>\n",
       "      <th>126125</th>\n",
       "      <td>Mexico</td>\n",
       "      <td>MEX</td>\n",
       "      <td>Population in the largest city (% of urban pop...</td>\n",
       "      <td>EN.URB.LCTY.UR.ZS</td>\n",
       "      <td>1964</td>\n",
       "      <td>28.378130</td>\n",
       "    </tr>\n",
       "  </tbody>\n",
       "</table>\n",
       "</div>"
      ],
      "text/plain": [
       "       CountryName CountryCode  \\\n",
       "15382       Mexico         MEX   \n",
       "40837       Mexico         MEX   \n",
       "68643       Mexico         MEX   \n",
       "97213       Mexico         MEX   \n",
       "126125      Mexico         MEX   \n",
       "\n",
       "                                            IndicatorName      IndicatorCode  \\\n",
       "15382   Population in the largest city (% of urban pop...  EN.URB.LCTY.UR.ZS   \n",
       "40837   Population in the largest city (% of urban pop...  EN.URB.LCTY.UR.ZS   \n",
       "68643   Population in the largest city (% of urban pop...  EN.URB.LCTY.UR.ZS   \n",
       "97213   Population in the largest city (% of urban pop...  EN.URB.LCTY.UR.ZS   \n",
       "126125  Population in the largest city (% of urban pop...  EN.URB.LCTY.UR.ZS   \n",
       "\n",
       "        Year      Value  \n",
       "15382   1960  28.280377  \n",
       "40837   1961  28.287121  \n",
       "68643   1962  28.305114  \n",
       "97213   1963  28.334391  \n",
       "126125  1964  28.378130  "
      ]
     },
     "execution_count": 4,
     "metadata": {},
     "output_type": "execute_result"
    }
   ],
   "source": [
    "# pick a random indicator for a random country",
    "hist_indicator = 'Population in the largest city'",
    "hist_country = 'MEX'",
    "# grab data",
    "data = indicators[indicators['IndicatorName'].str.contains(hist_indicator) & indicators['CountryCode'].str.contains(hist_country)]",
    "data.head()"
   ]
  },
  {
   "cell_type": "markdown",
   "metadata": {},
   "source": [
    "## Bar Plot"
   ]
  },
  {
   "cell_type": "code",
   "execution_count": 13,
   "metadata": {},
   "outputs": [
    {
     "data": {
      "image/png": "[encoded data removed]",
      "text/plain": [
       "<Figure size 720x432 with 1 Axes>"
      ]
     },
     "metadata": {},
     "output_type": "display_data"
    }
   ],
   "source": [
    "fig, axis = plt.subplots()",
    "fig.set_size_inches(10, 6)",
    "plt.bar(data['Year'].values, data['Value'].values)",
    "plt.show();"
   ]
  },
  {
   "cell_type": "markdown",
   "metadata": {},
   "source": [
    "## Line Plot"
   ]
  },
  {
   "cell_type": "code",
   "execution_count": 14,
   "metadata": {},
   "outputs": [
    {
     "data": {
      "image/png": "[encoded data removed]",
      "text/plain": [
       "<Figure size 720x432 with 1 Axes>"
      ]
     },
     "metadata": {},
     "output_type": "display_data"
    }
   ],
   "source": [
    "fig, axis = plt.subplots()",
    "fig.set_size_inches(10, 6)",
    "plt.plot(data['Year'].values, data['Value'].values)",
    "plt.xlabel('Year')",
    "plt.ylabel(data['IndicatorName'].iloc[0], fontsize=10)",
    "plt.title('Largest City pop %')",
    "plt.axis([1959, 2015,0,30])",
    "plt.show();"
   ]
  },
  {
   "cell_type": "markdown",
   "metadata": {},
   "source": [
    "## Histogram"
   ]
  },
  {
   "cell_type": "code",
   "execution_count": 15,
   "metadata": {},
   "outputs": [
    {
     "data": {
      "text/html": [
       "<div>\n",
       "<style scoped>\n",
       "    .dataframe tbody tr th:only-of-type {\n",
       "        vertical-align: middle;\n",
       "    }\n",
       "\n",
       "    .dataframe tbody tr th {\n",
       "        vertical-align: top;\n",
       "    }\n",
       "\n",
       "    .dataframe thead th {\n",
       "        text-align: right;\n",
       "    }\n",
       "</style>\n",
       "<table border=\"1\" class=\"dataframe\">\n",
       "  <thead>\n",
       "    <tr style=\"text-align: right;\">\n",
       "      <th></th>\n",
       "      <th>CountryName</th>\n",
       "      <th>CountryCode</th>\n",
       "      <th>IndicatorName</th>\n",
       "      <th>IndicatorCode</th>\n",
       "      <th>Year</th>\n",
       "      <th>Value</th>\n",
       "    </tr>\n",
       "  </thead>\n",
       "  <tbody>\n",
       "    <tr>\n",
       "      <th>5534383</th>\n",
       "      <td>Arab World</td>\n",
       "      <td>ARB</td>\n",
       "      <td>GDP per person employed (constant 1990 PPP $)</td>\n",
       "      <td>SL.GDP.PCAP.EM.KD</td>\n",
       "      <td>2014</td>\n",
       "      <td>16767.221871</td>\n",
       "    </tr>\n",
       "    <tr>\n",
       "      <th>5534893</th>\n",
       "      <td>Central Europe and the Baltics</td>\n",
       "      <td>CEB</td>\n",
       "      <td>GDP per person employed (constant 1990 PPP $)</td>\n",
       "      <td>SL.GDP.PCAP.EM.KD</td>\n",
       "      <td>2014</td>\n",
       "      <td>25167.333899</td>\n",
       "    </tr>\n",
       "    <tr>\n",
       "      <th>5535240</th>\n",
       "      <td>East Asia &amp; Pacific (all income levels)</td>\n",
       "      <td>EAS</td>\n",
       "      <td>GDP per person employed (constant 1990 PPP $)</td>\n",
       "      <td>SL.GDP.PCAP.EM.KD</td>\n",
       "      <td>2014</td>\n",
       "      <td>18639.269885</td>\n",
       "    </tr>\n",
       "    <tr>\n",
       "      <th>5535541</th>\n",
       "      <td>East Asia &amp; Pacific (developing only)</td>\n",
       "      <td>EAP</td>\n",
       "      <td>GDP per person employed (constant 1990 PPP $)</td>\n",
       "      <td>SL.GDP.PCAP.EM.KD</td>\n",
       "      <td>2014</td>\n",
       "      <td>15755.489075</td>\n",
       "    </tr>\n",
       "    <tr>\n",
       "      <th>5536004</th>\n",
       "      <td>Euro area</td>\n",
       "      <td>EMU</td>\n",
       "      <td>GDP per person employed (constant 1990 PPP $)</td>\n",
       "      <td>SL.GDP.PCAP.EM.KD</td>\n",
       "      <td>2014</td>\n",
       "      <td>45073.794771</td>\n",
       "    </tr>\n",
       "  </tbody>\n",
       "</table>\n",
       "</div>"
      ],
      "text/plain": [
       "                                     CountryName CountryCode  \\\n",
       "5534383                               Arab World         ARB   \n",
       "5534893           Central Europe and the Baltics         CEB   \n",
       "5535240  East Asia & Pacific (all income levels)         EAS   \n",
       "5535541    East Asia & Pacific (developing only)         EAP   \n",
       "5536004                                Euro area         EMU   \n",
       "\n",
       "                                         IndicatorName      IndicatorCode  \\\n",
       "5534383  GDP per person employed (constant 1990 PPP $)  SL.GDP.PCAP.EM.KD   \n",
       "5534893  GDP per person employed (constant 1990 PPP $)  SL.GDP.PCAP.EM.KD   \n",
       "5535240  GDP per person employed (constant 1990 PPP $)  SL.GDP.PCAP.EM.KD   \n",
       "5535541  GDP per person employed (constant 1990 PPP $)  SL.GDP.PCAP.EM.KD   \n",
       "5536004  GDP per person employed (constant 1990 PPP $)  SL.GDP.PCAP.EM.KD   \n",
       "\n",
       "         Year         Value  \n",
       "5534383  2014  16767.221871  \n",
       "5534893  2014  25167.333899  \n",
       "5535240  2014  18639.269885  \n",
       "5535541  2014  15755.489075  \n",
       "5536004  2014  45073.794771  "
      ]
     },
     "metadata": {},
     "output_type": "display_data"
    },
    {
     "data": {
      "image/png": "[encoded data removed]",
      "text/plain": [
       "<Figure size 720x432 with 1 Axes>"
      ]
     },
     "metadata": {},
     "output_type": "display_data"
    }
   ],
   "source": [
    "# Prep data for histogram",
    "import re",
    "cond_gdp_worker_ppp = indicators['IndicatorName'] == 'GDP per person employed (constant 1990 PPP $)'",
    "cond_2014 = indicators['Year'] == 2014",
    "data_2 = indicators[cond_gdp_worker_ppp & cond_2014]",
    "display(data_2.head())",
    "# add a semicolon to last plt in a cell to avoid printing extra info",
    "fig, axis = plt.subplots()",
    "fig.set_size_inches(10, 6)",
    "plt.hist(data_2['Value'].values, 100, density=False, facecolor='green');",
    "plt.xlabel(data_2['IndicatorName'].iloc[0]);",
    "plt.ylabel('# of Countries');",
    "plt.title('Histogram Example');"
   ]
  },
  {
   "cell_type": "markdown",
   "metadata": {},
   "source": [
    "## Scatterplot",
    "#### Data Prep for Scatterplot",
    "Now, plot GDP per worker vs percent urbanization for all countries for all years of data",
    "* No need to aggregate - just use the 'World' CountryName",
    "* 2 Filters:",
    "* GDP per worker, GDP per person employed (constant 1990 PPP $)",
    "* percent urbanization, Urban population (% of total)",
    "* Only pull year and value - other columns aren't needed",
    "* Inner join tables on Year. Merge seems to automatically drop missing years where the first dataframe had no values",
    "* Plot urbanization on x, gdp per person on y"
   ]
  },
  {
   "cell_type": "code",
   "execution_count": 8,
   "metadata": {},
   "outputs": [
    {
     "data": {
      "text/html": [
       "<div>\n",
       "<style scoped>\n",
       "    .dataframe tbody tr th:only-of-type {\n",
       "        vertical-align: middle;\n",
       "    }\n",
       "\n",
       "    .dataframe tbody tr th {\n",
       "        vertical-align: top;\n",
       "    }\n",
       "\n",
       "    .dataframe thead th {\n",
       "        text-align: right;\n",
       "    }\n",
       "</style>\n",
       "<table border=\"1\" class=\"dataframe\">\n",
       "  <thead>\n",
       "    <tr style=\"text-align: right;\">\n",
       "      <th></th>\n",
       "      <th>Year</th>\n",
       "      <th>Value</th>\n",
       "    </tr>\n",
       "  </thead>\n",
       "  <tbody>\n",
       "    <tr>\n",
       "      <th>2012906</th>\n",
       "      <td>1991</td>\n",
       "      <td>12056.692883</td>\n",
       "    </tr>\n",
       "    <tr>\n",
       "      <th>2129349</th>\n",
       "      <td>1992</td>\n",
       "      <td>12144.729023</td>\n",
       "    </tr>\n",
       "    <tr>\n",
       "      <th>2251054</th>\n",
       "      <td>1993</td>\n",
       "      <td>12242.591709</td>\n",
       "    </tr>\n",
       "    <tr>\n",
       "      <th>2374887</th>\n",
       "      <td>1994</td>\n",
       "      <td>12430.524713</td>\n",
       "    </tr>\n",
       "    <tr>\n",
       "      <th>2501760</th>\n",
       "      <td>1995</td>\n",
       "      <td>12767.091788</td>\n",
       "    </tr>\n",
       "  </tbody>\n",
       "</table>\n",
       "</div>"
      ],
      "text/plain": [
       "         Year         Value\n",
       "2012906  1991  12056.692883\n",
       "2129349  1992  12144.729023\n",
       "2251054  1993  12242.591709\n",
       "2374887  1994  12430.524713\n",
       "2501760  1995  12767.091788"
      ]
     },
     "metadata": {},
     "output_type": "display_data"
    },
    {
     "data": {
      "text/html": [
       "<div>\n",
       "<style scoped>\n",
       "    .dataframe tbody tr th:only-of-type {\n",
       "        vertical-align: middle;\n",
       "    }\n",
       "\n",
       "    .dataframe tbody tr th {\n",
       "        vertical-align: top;\n",
       "    }\n",
       "\n",
       "    .dataframe thead th {\n",
       "        text-align: right;\n",
       "    }\n",
       "</style>\n",
       "<table border=\"1\" class=\"dataframe\">\n",
       "  <thead>\n",
       "    <tr style=\"text-align: right;\">\n",
       "      <th></th>\n",
       "      <th>Year</th>\n",
       "      <th>Value</th>\n",
       "    </tr>\n",
       "  </thead>\n",
       "  <tbody>\n",
       "    <tr>\n",
       "      <th>3491</th>\n",
       "      <td>1960</td>\n",
       "      <td>33.557608</td>\n",
       "    </tr>\n",
       "    <tr>\n",
       "      <th>27221</th>\n",
       "      <td>1961</td>\n",
       "      <td>34.073235</td>\n",
       "    </tr>\n",
       "    <tr>\n",
       "      <th>54067</th>\n",
       "      <td>1962</td>\n",
       "      <td>34.517820</td>\n",
       "    </tr>\n",
       "    <tr>\n",
       "      <th>82472</th>\n",
       "      <td>1963</td>\n",
       "      <td>34.908136</td>\n",
       "    </tr>\n",
       "    <tr>\n",
       "      <th>111146</th>\n",
       "      <td>1964</td>\n",
       "      <td>35.303686</td>\n",
       "    </tr>\n",
       "  </tbody>\n",
       "</table>\n",
       "</div>"
      ],
      "text/plain": [
       "        Year      Value\n",
       "3491    1960  33.557608\n",
       "27221   1961  34.073235\n",
       "54067   1962  34.517820\n",
       "82472   1963  34.908136\n",
       "111146  1964  35.303686"
      ]
     },
     "metadata": {},
     "output_type": "display_data"
    },
    {
     "data": {
      "text/html": [
       "<div>\n",
       "<style scoped>\n",
       "    .dataframe tbody tr th:only-of-type {\n",
       "        vertical-align: middle;\n",
       "    }\n",
       "\n",
       "    .dataframe tbody tr th {\n",
       "        vertical-align: top;\n",
       "    }\n",
       "\n",
       "    .dataframe thead th {\n",
       "        text-align: right;\n",
       "    }\n",
       "</style>\n",
       "<table border=\"1\" class=\"dataframe\">\n",
       "  <thead>\n",
       "    <tr style=\"text-align: right;\">\n",
       "      <th></th>\n",
       "      <th>Year</th>\n",
       "      <th>Value_x</th>\n",
       "      <th>Value_y</th>\n",
       "    </tr>\n",
       "  </thead>\n",
       "  <tbody>\n",
       "    <tr>\n",
       "      <th>0</th>\n",
       "      <td>1991</td>\n",
       "      <td>43.285793</td>\n",
       "      <td>12056.692883</td>\n",
       "    </tr>\n",
       "    <tr>\n",
       "      <th>1</th>\n",
       "      <td>1992</td>\n",
       "      <td>43.624850</td>\n",
       "      <td>12144.729023</td>\n",
       "    </tr>\n",
       "    <tr>\n",
       "      <th>2</th>\n",
       "      <td>1993</td>\n",
       "      <td>43.982123</td>\n",
       "      <td>12242.591709</td>\n",
       "    </tr>\n",
       "    <tr>\n",
       "      <th>3</th>\n",
       "      <td>1994</td>\n",
       "      <td>44.334518</td>\n",
       "      <td>12430.524713</td>\n",
       "    </tr>\n",
       "    <tr>\n",
       "      <th>4</th>\n",
       "      <td>1995</td>\n",
       "      <td>44.703049</td>\n",
       "      <td>12767.091788</td>\n",
       "    </tr>\n",
       "  </tbody>\n",
       "</table>\n",
       "</div>"
      ],
      "text/plain": [
       "   Year    Value_x       Value_y\n",
       "0  1991  43.285793  12056.692883\n",
       "1  1992  43.624850  12144.729023\n",
       "2  1993  43.982123  12242.591709\n",
       "3  1994  44.334518  12430.524713\n",
       "4  1995  44.703049  12767.091788"
      ]
     },
     "metadata": {},
     "output_type": "display_data"
    },
    {
     "data": {
      "text/plain": [
       "(24, 55, 24)"
      ]
     },
     "execution_count": 8,
     "metadata": {},
     "output_type": "execute_result"
    }
   ],
   "source": [
    "cond_world = indicators['CountryName'] == 'World'",
    "gdp_worker_ppp = indicators[cond_gdp_worker_ppp & cond_world][['Year', 'Value']]",
    "cond_3 = indicators['IndicatorName'] == 'Urban population (% of total)'",
    "urban_perc = indicators[cond_3 & cond_world][['Year', 'Value']]",
    "data_3 = urban_perc.merge(gdp_worker_ppp, on = 'Year', how = 'inner')",
    "display(gdp_worker_ppp.head(), urban_perc.head(), data_3.head())",
    "len(gdp_worker_ppp), len(urban_perc), len(data_3)"
   ]
  },
  {
   "cell_type": "markdown",
   "metadata": {},
   "source": [
    "#### Scatterplot generation"
   ]
  },
  {
   "cell_type": "code",
   "execution_count": 17,
   "metadata": {},
   "outputs": [
    {
     "data": {
      "image/png": "[encoded data removed]",
      "text/plain": [
       "<Figure size 720x432 with 1 Axes>"
      ]
     },
     "metadata": {},
     "output_type": "display_data"
    }
   ],
   "source": [
    "fig, axis = plt.subplots()",
    "# Grid lines, Xticks, Xlabel, Ylabel",
    "axis.yaxis.grid(True)",
    "axis.set_title('GDP per person employed vs Urban population',fontsize=16)",
    "axis.set_xlabel('Urban population (% of total)',fontsize=10)",
    "axis.set_ylabel('GDP per person employed (constant 1990 PPP $)',fontsize=10)",
    "fig.set_size_inches(10, 6)",
    "X = data_3['Value_x']",
    "Y = data_3['Value_y']",
    "axis.scatter(X, Y)",
    "plt.show();"
   ]
  },
  {
   "cell_type": "markdown",
   "metadata": {},
   "source": [
    "#### What is the correlation?"
   ]
  },
  {
   "cell_type": "code",
   "execution_count": 10,
   "metadata": {},
   "outputs": [
    {
     "data": {
      "text/plain": [
       "array([[1.        , 0.99437166],\n",
       "       [0.99437166, 1.        ]])"
      ]
     },
     "execution_count": 10,
     "metadata": {},
     "output_type": "execute_result"
    }
   ],
   "source": [
    "np.corrcoef(X, Y)"
   ]
  },
  {
   "cell_type": "markdown",
   "metadata": {},
   "source": [
    "The correlation is extremely strong.",
    "## Boxplot",
    "Compare distributions of life expectancy in 1960 vs 2013"
   ]
  },
  {
   "cell_type": "code",
   "execution_count": 18,
   "metadata": {},
   "outputs": [
    {
     "data": {
      "image/png": "[encoded data removed]",
      "text/plain": [
       "<Figure size 432x288 with 1 Axes>"
      ]
     },
     "metadata": {},
     "output_type": "display_data"
    }
   ],
   "source": [
    "cond_2013, cond_1960 = indicators['Year'] == 2013, indicators['Year'] == 1960",
    "cond_life_exp = indicators['IndicatorName'] == 'Life expectancy at birth, total (years)'",
    "life_exp_1960 = indicators[cond_1960 & cond_life_exp]['Value']",
    "life_exp_2013 = indicators[cond_2013 & cond_life_exp]['Value']",
    "life_exp_data = [life_exp_1960, life_exp_2013]",
    "fig, axes = plt.subplots()",
    "axis.yaxis.grid(True)",
    "bplot = axes.boxplot(life_exp_data,",
    "vert=True)     # vertical aligmnent",
    "plt.xticks([1, 2], ['1960', '2013'])",
    "axes.set_title('Life expectancy at birth vs Year',fontsize=16)",
    "axes.set_xlabel('Year',fontsize=14)",
    "axes.set_ylabel('Life expectancy at birth, total (years)',fontsize=14)",
    "plt.show();"
   ]
  },
  {
   "cell_type": "markdown",
   "metadata": {},
   "source": [
    "The distribution has tightened somewhat."
   ]
  }
 ],
 "metadata": {
  "kernelspec": {
   "display_name": "Python 3",
   "language": "python",
   "name": "python3"
  },
  "language_info": {
   "codemirror_mode": {
    "name": "ipython",
    "version": 3
   },
   "file_extension": ".py",
   "mimetype": "text/x-python",
   "name": "python",
   "nbconvert_exporter": "python",
   "pygments_lexer": "ipython3",
   "version": "3.7.2"
  }
 },
 "nbformat": 4,
 "nbformat_minor": 2
}