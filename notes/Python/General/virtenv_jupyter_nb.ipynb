{
 "cells": [
  {
   "cell_type": "markdown",
   "metadata": {},
   "source": [
    "<head>\n",
    "<link rel=\"stylesheet\" href=\"../../../cssthemes/github.css\">\n",
    "<meta name=\"viewport\" content=\"initial-scale=1, width=device-width\">\n",
    "</head>"
   ]
  },
  {
   "cell_type": "markdown",
   "metadata": {},
   "source": [
    "# Introduction\n",
    "Having coded in Python for 6 months or so already, I had always used Spyder and pip install mindlessly (so I guess no virtual env either). I heard about virtual env from a colleague and looked into it, and then decided to implement it on my Linux machine.\n",
    "## Setting up a virtual env (Anaconda Navigator)\n",
    "After Anaconda was installed, I created a new virtual env for learning purposes using the GUI:\n",
    "![](https://i.imgur.com/VyaA3yh.png)\n",
    "Options included python 3.7 and MRO for R\n",
    "## Setting up Jupyter with my new env\n",
    "```\n",
    "conda activate learningenv\n",
    "#\n",
    "source activate learningenv\n",
    "# output:\n",
    "(learningenv) jcmint@jcmint:/media/jcmint/Data Volume/csjoshc.github.io$\n",
    "```\n",
    "Next, I installed a few packages inside my learningenv\n",
    "```\n",
    "conda info --envs\n",
    "# conda environments: # just to be sure im not install packages into my github repository...\n",
    "#\n",
    "base                     /home/jcmint/anaconda3\n",
    "learningenv           *  /home/jcmint/anaconda3/envs/learningenv\n",
    "conda install jupyter\n",
    "conda install ipykernel\n",
    "conda install nb_conda\n",
    "```\n",
    "## Kernel selection\n",
    "Jupyter notebook needs to be started **inside** of a virtualenv. A notebook created outside of it can still be used inside of it, if you close Jupyter and activate the correct env.\n",
    "In the bash Terminal:\n",
    "```\n",
    "jcmint@jcmint:~$ source activate learningenv\n",
    "(learningenv) jcmint@jcmint:~$ jupyter notebook\n",
    "[I 22:35:27.784 NotebookApp] [nb_conda_kernels] enabled, 1 kernels found\n",
    "[I 22:35:27.967 NotebookApp] [nb_conda] enabled\n",
    "```\n",
    "**Incorrect**\n",
    "```\n",
    "import sys\n",
    "print(sys.executable)\n",
    "# /home/jcmint/anaconda3/bin/python\n",
    "```"
   ]
  },
  {
   "cell_type": "code",
   "execution_count": 1,
   "metadata": {},
   "outputs": [
    {
     "data": {
      "text/plain": [
       "'/home/jcmint/anaconda3/envs/learningenv/bin/python'"
      ]
     },
     "execution_count": 1,
     "metadata": {},
     "output_type": "execute_result"
    }
   ],
   "source": [
    "# This code block verifies correct env selection\n",
    "# Correct (if switched env before running jupyter notebook in bash)\n",
    "import sys\n",
    "sys.executable"
   ]
  },
  {
   "cell_type": "markdown",
   "metadata": {},
   "source": [
    "The code block above should match the image below:\n",
    "![](https://i.imgur.com/n8J3HcA.png)"
   ]
  },
  {
   "cell_type": "markdown",
   "metadata": {},
   "source": [
    "## Other points about Jupyter, kernel and virtual env\n",
    "You can see the list of available kernels in a jupyter notebook session in the `Conda` tab. Notebooks are not created within an environment, really. Rather, they can be created and run in any environment (although dependent code will obviously break if the package dependencies are unmet in different environments).\n",
    "![](https://i.imgur.com/Wo2Q3lT.png)\n",
    "Basically, the kernel and environment that a jupyter session are in are not persistent once you close the session. It's therefore necessary to be disciplined and use `source activate learningenv` before `jupyter notebook` on the Terminal.\n",
    "## Previews and formatting\n",
    "The in-session formatting of jupyter has nothing to do with css. Also, downloading as HTML also doesn't use the embedded CSS stylesheet. Converting to markdown, then to html, will use the stylesheet. However, this  means that I will need to copy and paste each .md from Downloads to the repository and then compile into HTML using vscode. The only way to get the formatting right for good is to override the default css by adding a file to the directory below [(according to this guide)](https://stackoverflow.com/questions/32156248/how-do-i-set-custom-css-for-my-ipython-ihaskell-jupyter-notebook/32158550#32158550)"
   ]
  },
  {
   "cell_type": "code",
   "execution_count": 25,
   "metadata": {},
   "outputs": [
    {
     "data": {
      "text/plain": [
       "'/home/jcmint/.jupyter'"
      ]
     },
     "execution_count": 25,
     "metadata": {},
     "output_type": "execute_result"
    }
   ],
   "source": [
    "import jupyter_core\n",
    "jupyter_core.paths.jupyter_config_dir()"
   ]
  },
  {
   "cell_type": "code",
   "execution_count": 52,
   "metadata": {},
   "outputs": [
    {
     "name": "stdout",
     "output_type": "stream",
     "text": [
      "css_gh.css  github.css\tvscode.css\n",
      "custom\tjupyter_notebook_config.py  lab  migrated\n",
      "mkdir: cannot create directory ‘/home/jcmint/.jupyter/custom’: File exists\n",
      "custom.css\n"
     ]
    }
   ],
   "source": [
    "!ls /media/jcmint/'Data Volume'/csjoshc.github.io/css_themes\n",
    "!ls /home/jcmint/.jupyter\n",
    "!mkdir /home/jcmint/.jupyter/custom\n",
    "!cp /media/jcmint/'Data Volume'/csjoshc.github.io/css_themes/github.css /home/jcmint/.jupyter/custom/custom.css\n",
    "!ls /home/jcmint/.jupyter/custom"
   ]
  }
 ],
 "metadata": {
  "kernelspec": {
   "display_name": "Python 3",
   "language": "python",
   "name": "python3"
  },
  "language_info": {
   "codemirror_mode": {
    "name": "ipython",
    "version": 3
   },
   "file_extension": ".py",
   "mimetype": "text/x-python",
   "name": "python",
   "nbconvert_exporter": "python",
   "pygments_lexer": "ipython3",
   "version": "3.7.2"
  }
 },
 "nbformat": 4,
 "nbformat_minor": 2
}
