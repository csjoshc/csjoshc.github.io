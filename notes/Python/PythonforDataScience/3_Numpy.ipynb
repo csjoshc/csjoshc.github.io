{
 "cells": [
  {
   "cell_type": "code",
   "execution_count": 24,
   "metadata": {},
   "outputs": [
    {
     "name": "stdout",
     "output_type": "stream",
     "text": [
      "/home/jcmint/anaconda3/envs/learningenv/bin/python\n"
     ]
    }
   ],
   "source": [
    "import sys\n",
    "print(sys.executable)\n",
    "from IPython.core.interactiveshell import InteractiveShell\n",
    "InteractiveShell.ast_node_interactivity = \"all\"\n",
    "InteractiveShell.colors = \"Linux\"\n",
    "InteractiveShell.separate_in = 0\n",
    "from tabulate import tabulate"
   ]
  },
  {
   "cell_type": "markdown",
   "metadata": {},
   "source": [
    "# Numpy \n",
    "Numpy contains multidimensional arrays that have built-in functions based on compiled c code* Arrays in Numpy are fixed in size, unlike Python lists which have changeable sizes* Elements must all be the same type* Well optimized and useful matrix operations* Pandas are built on top of numpy* Matrices - Rank 2 ndarrays are a key featureWhen creating an array using `=` instead of np.array, the new reference points to the same object in memory. Therefore, if either the original or copy is mutated, the other will be updated as well\n"
   ]
  },
  {
   "cell_type": "markdown",
   "metadata": {},
   "source": []
  },
  {
   "cell_type": "code",
   "execution_count": 25,
   "metadata": {},
   "outputs": [
    {
     "name": "stdout",
     "output_type": "stream",
     "text": [
      "[[ 0  5 10]\n",
      " [ 2  4  6]] [ 0  5 10] [0 2]\n"
     ]
    }
   ],
   "source": [
    "import numpy as np\n",
    "a1 = np.array([[0, 5, 10], [2, 4, 6]])\n",
    "# Note that the col_slice is returned as a row. These are both 1D/Rank one arrays\n",
    "row_slice = a1[0,:]\n",
    "col_slice = a1[:,0]\n",
    "print(a1, row_slice, col_slice)"
   ]
  },
  {
   "cell_type": "markdown",
   "metadata": {},
   "source": [
    "Row and column slices will mutate along with the original array"
   ]
  },
  {
   "cell_type": "code",
   "execution_count": 26,
   "metadata": {},
   "outputs": [
    {
     "name": "stdout",
     "output_type": "stream",
     "text": [
      "[[ 1  5 10]\n",
      " [ 2  4  6]] [ 1  5 10] [1 2]\n"
     ]
    }
   ],
   "source": [
    "a1[0,0] = 1\n",
    "print(a1, row_slice, col_slice)"
   ]
  },
  {
   "cell_type": "markdown",
   "metadata": {},
   "source": [
    "Since the slices are 1D you can extract with just one index value"
   ]
  },
  {
   "cell_type": "code",
   "execution_count": 27,
   "metadata": {},
   "outputs": [
    {
     "name": "stdout",
     "output_type": "stream",
     "text": [
      "5 2\n"
     ]
    }
   ],
   "source": [
    "print(row_slice[1], col_slice[1])"
   ]
  },
  {
   "cell_type": "markdown",
   "metadata": {},
   "source": [
    "## Creating column array"
   ]
  },
  {
   "cell_type": "code",
   "execution_count": 28,
   "metadata": {},
   "outputs": [
    {
     "data": {
      "text/plain": [
       "array([[1],\n",
       "       [2],\n",
       "       [3],\n",
       "       [4]])"
      ]
     },
     "execution_count": 28,
     "metadata": {},
     "output_type": "execute_result"
    }
   ],
   "source": [
    "# Instead of:\n",
    "long = np.array([[1], [2], [3], [4]])\n",
    "# you can use `.T` (transposon) to easily create column array\n",
    "long2 = np.array([[1,2,3,4]]).T\n",
    "long2"
   ]
  },
  {
   "cell_type": "markdown",
   "metadata": {},
   "source": [
    "## Boolean indexing* Use conditional indexing to access and permute arrays"
   ]
  },
  {
   "cell_type": "code",
   "execution_count": 29,
   "metadata": {},
   "outputs": [
    {
     "data": {
      "text/plain": [
       "array([[False, False,  True],\n",
       "       [False, False,  True]])"
      ]
     },
     "execution_count": 29,
     "metadata": {},
     "output_type": "execute_result"
    }
   ],
   "source": [
    "a1 = np.array([[0, 5, 10], [2, 4, 6]])\n",
    "# Creating a boolean array using `=` operator - but the boolean isn't mutated when the original is.\n",
    "small_num = a1 > 5\n",
    "small_num"
   ]
  },
  {
   "cell_type": "markdown",
   "metadata": {},
   "source": [
    "The boolean array doesn't get mutated along with the original one"
   ]
  },
  {
   "cell_type": "code",
   "execution_count": 30,
   "metadata": {},
   "outputs": [
    {
     "name": "stdout",
     "output_type": "stream",
     "text": [
      "[[ 0  5 10]\n",
      " [ 6  7  8]] \n",
      " [[False False  True]\n",
      " [False False  True]]\n"
     ]
    }
   ],
   "source": [
    "a1[1,:] = [6, 7, 8]\n",
    "print(a1, \"\\n\", small_num)"
   ]
  },
  {
   "cell_type": "markdown",
   "metadata": {},
   "source": [
    "Get a list of values in the arrays for which conditional is TRUE"
   ]
  },
  {
   "cell_type": "code",
   "execution_count": 31,
   "metadata": {},
   "outputs": [
    {
     "data": {
      "text/plain": [
       "array([10,  6,  7,  8])"
      ]
     },
     "execution_count": 31,
     "metadata": {},
     "output_type": "execute_result"
    }
   ],
   "source": [
    "a1[a1 > 5]"
   ]
  },
  {
   "cell_type": "markdown",
   "metadata": {},
   "source": [
    "### Multiple conditionals and assigning values where **True**"
   ]
  },
  {
   "cell_type": "code",
   "execution_count": 32,
   "metadata": {},
   "outputs": [
    {
     "name": "stdout",
     "output_type": "stream",
     "text": [
      "[[ 0  5 10]\n",
      " [ 6  7  8]]\n"
     ]
    },
    {
     "data": {
      "text/plain": [
       "array([5, 6, 7])"
      ]
     },
     "execution_count": 32,
     "metadata": {},
     "output_type": "execute_result"
    }
   ],
   "source": [
    "print(a1)\n",
    "# Get a list of values in the arrays for which multiple conditionals are TRUE\n",
    "a1[(a1 > 2) & (a1 < 8)]"
   ]
  },
  {
   "cell_type": "markdown",
   "metadata": {},
   "source": [
    "### Assigning new values using logical filter"
   ]
  },
  {
   "cell_type": "code",
   "execution_count": 33,
   "metadata": {},
   "outputs": [
    {
     "data": {
      "text/plain": [
       "array([[100,   5, 110],\n",
       "       [106,   7, 108]])"
      ]
     },
     "execution_count": 33,
     "metadata": {},
     "output_type": "execute_result"
    }
   ],
   "source": [
    "a1[a1 % 2 == 0] += 100\n",
    "a1"
   ]
  },
  {
   "cell_type": "markdown",
   "metadata": {},
   "source": [
    "# Numpy\n",
    "Numpy contains multidimensional arrays that have built-in functions based on compiled c code\n",
    "* Arrays in Numpy are fixed in size, unlike Python lists which have changeable sizes\n",
    "* Elements must all be the same type\n",
    "* Well optimized and useful matrix operations\n",
    "* Pandas are built on top of numpy\n",
    "* Matrices - Rank 2 ndarrays are a key feature\n",
    "When creating an array using `=` instead of np.array, the new reference points to the same object in memory. Therefore, if either the original or copy is mutated, the other will be updated as well\n",
    "```python\n",
    "import numpy as np\n",
    "a1 = np.array([[0, 5, 10], [2, 4, 6]])\n",
    "# Note that the col_slice is returned as a row. These are both 1D/Rank one arrays\n",
    "row_slice = a1[0,:]\n",
    "col_slice = a1[:,0]\n",
    "print(a1, row_slice, col_slice)\n",
    "```\n",
    "[[ 0  5 10]\n",
    "[ 2  4  6]] [ 0  5 10] [0 2]\n",
    "Row and column slices will mutate along with the original array\n",
    "```python\n",
    "a1[0,0] = 1\n",
    "print(a1, row_slice, col_slice)\n",
    "```\n",
    "[[ 1  5 10]\n",
    "[ 2  4  6]] [ 1  5 10] [1 2]\n",
    "Since the slices are 1D you can extract with just one index value\n",
    "```python\n",
    "print(row_slice[1], col_slice[1])\n",
    "```\n",
    "5 2\n",
    "## Creating column array\n",
    "```python\n",
    "# Instead of:\n",
    "long = np.array([[1], [2], [3], [4]])\n",
    "# Creating column arrays\n",
    "**Code:** Use `.T` (transpose) to easily create column array\n",
    "long2 = np.array([[1,2,3,4]]).T\n",
    "long2\n",
    "```\n",
    "array([[1],\n",
    "[2],\n",
    "[3],\n",
    "[4]])\n",
    "## Boolean indexing\n",
    "* Use conditional indexing to access and permute arrays\n",
    "```python\n",
    "a1 = np.array([[0, 5, 10], [2, 4, 6]])\n",
    "# Creating boolean arrays\n",
    "**Code:** Use `=` operator - but the boolean isn't mutated when the original is.\n",
    "small_num = a1 > 5\n",
    "small_num\n",
    "```\n",
    "array([[False, False,  True],\n",
    "[False, False,  True]])\n",
    "The boolean array doesn't get mutated along with the original one\n",
    "```python\n",
    "a1[1,:] = [6, 7, 8]\n",
    "print(a1, \"\\n\", small_num)\n",
    "```\n",
    "[[ 0  5 10]\n",
    "[ 6  7  8]]\n",
    "[[False False  True]\n",
    "[False False  True]]\n",
    "Get a list of values in the arrays for which conditional is TRUE\n",
    "```python\n",
    "a1[a1 > 5]\n",
    "```\n",
    "array([10,  6,  7,  8])\n",
    "### Multiple conditionals and assigning values where **True**\n",
    "```python\n",
    "print(a1)\n",
    "# Get a list of values in the arrays for which multiple conditionals are TRUE\n",
    "a1[(a1 > 2) & (a1 < 8)]\n",
    "```\n",
    "[[ 0  5 10]\n",
    "[ 6  7  8]]\n",
    "array([5, 6, 7])\n",
    "### Assigning new values using logical filter\n",
    "```python\n",
    "a1[a1 % 2 == 0] += 100\n",
    "a1\n",
    "```\n",
    "array([[100,   5, 110],\n",
    "[106,   7, 108]])\n",
    "## np.array data types\n",
    "**Code:** `np.array`* Array types are explicit - you can't add in values of a different type from initialization time* you can force int and float array to have each other's data type"
   ]
  },
  {
   "cell_type": "code",
   "execution_count": 34,
   "metadata": {},
   "outputs": [
    {
     "name": "stdout",
     "output_type": "stream",
     "text": [
      "int64 float64 float64 int64 [1 2]\n"
     ]
    }
   ],
   "source": [
    "ex1 = np.array([1,2])\n",
    "ex2 = np.array([1.1, 2.2])\n",
    "ex3 = np.array(ex1, dtype = np.float64)\n",
    "ex4 = np.array(ex2, dtype=np.int64)\n",
    "# Coerced int array to float, float to int (rounding DOWN to nearest int)\n",
    "print(ex1.dtype, ex2.dtype, ex3.dtype, ex4.dtype, ex4)"
   ]
  },
  {
   "cell_type": "markdown",
   "metadata": {},
   "source": [
    "In general, its preferable to have arrays in floating point, so Python won't give errors when assigning values and you avoid losing precision.* Arrays will be upcast to higher precision types when performing operations* Array operations are NOT matrix operations:"
   ]
  },
  {
   "cell_type": "code",
   "execution_count": 35,
   "metadata": {},
   "outputs": [
    {
     "data": {
      "text/plain": [
       "array([[ 8,  8],\n",
       "       [15, 15]])"
      ]
     },
     "execution_count": 35,
     "metadata": {},
     "output_type": "execute_result"
    }
   ],
   "source": [
    "ex5 = np.array([[2, 2], [3, 3]])\n",
    "ex6 = np.array([[4, 4], [5, 5]])\n",
    "ex5 * ex6"
   ]
  },
  {
   "cell_type": "markdown",
   "metadata": {},
   "source": [
    "# Numpy\n",
    "Numpy contains multidimensional arrays that have built-in functions based on compiled c code\n",
    "* Arrays in Numpy are fixed in size, unlike Python lists which have changeable sizes\n",
    "* Elements must all be the same type\n",
    "* Well optimized and useful matrix operations\n",
    "* Pandas are built on top of numpy\n",
    "* Matrices - Rank 2 ndarrays are a key feature\n",
    "When creating an array using `=` instead of np.array, the new reference points to the same object in memory. Therefore, if either the original or copy is mutated, the other will be updated as well\n",
    "```python\n",
    "import numpy as np\n",
    "a1 = np.array([[0, 5, 10], [2, 4, 6]])\n",
    "# Note that the col_slice is returned as a row. These are both 1D/Rank one arrays\n",
    "row_slice = a1[0,:]\n",
    "col_slice = a1[:,0]\n",
    "print(a1, row_slice, col_slice)\n",
    "```\n",
    "[[ 0  5 10]\n",
    "[ 2  4  6]] [ 0  5 10] [0 2]\n",
    "Row and column slices will mutate along with the original array\n",
    "```python\n",
    "a1[0,0] = 1\n",
    "print(a1, row_slice, col_slice)\n",
    "```\n",
    "[[ 1  5 10]\n",
    "[ 2  4  6]] [ 1  5 10] [1 2]\n",
    "Since the slices are 1D you can extract with just one index value\n",
    "```python\n",
    "print(row_slice[1], col_slice[1])\n",
    "```\n",
    "5 2\n",
    "## Creating column array\n",
    "```python\n",
    "# Instead of:\n",
    "long = np.array([[1], [2], [3], [4]])\n",
    "# Creating column arrays\n",
    "**Code:** Use `.T` (transpose) to easily create column array\n",
    "long2 = np.array([[1,2,3,4]]).T\n",
    "long2\n",
    "```\n",
    "array([[1],\n",
    "[2],\n",
    "[3],\n",
    "[4]])\n",
    "## Boolean indexing\n",
    "* Use conditional indexing to access and permute arrays\n",
    "```python\n",
    "a1 = np.array([[0, 5, 10], [2, 4, 6]])\n",
    "# Creating boolean arrays\n",
    "**Code:** Use `=` operator - but the boolean isn't mutated when the original is.\n",
    "small_num = a1 > 5\n",
    "small_num\n",
    "```\n",
    "array([[False, False,  True],\n",
    "[False, False,  True]])\n",
    "The boolean array doesn't get mutated along with the original one\n",
    "```python\n",
    "a1[1,:] = [6, 7, 8]\n",
    "print(a1, \"\\n\", small_num)\n",
    "```\n",
    "[[ 0  5 10]\n",
    "[ 6  7  8]]\n",
    "[[False False  True]\n",
    "[False False  True]]\n",
    "Get a list of values in the arrays for which conditional is TRUE\n",
    "```python\n",
    "a1[a1 > 5]\n",
    "```\n",
    "array([10,  6,  7,  8])\n",
    "### Multiple conditionals and assigning values where **True**\n",
    "```python\n",
    "print(a1)\n",
    "# Get a list of values in the arrays for which multiple conditionals are TRUE\n",
    "a1[(a1 > 2) & (a1 < 8)]\n",
    "```\n",
    "[[ 0  5 10]\n",
    "[ 6  7  8]]\n",
    "array([5, 6, 7])\n",
    "### Assigning new values using logical filter\n",
    "```python\n",
    "a1[a1 % 2 == 0] += 100\n",
    "a1\n",
    "```\n",
    "array([[100,   5, 110],\n",
    "[106,   7, 108]])\n",
    "## np.array data types\n",
    "**Code:** `np.array`* For matrix math, use the `np.array.*` functions instead of generic operations (*)"
   ]
  },
  {
   "cell_type": "code",
   "execution_count": 36,
   "metadata": {},
   "outputs": [
    {
     "name": "stdout",
     "output_type": "stream",
     "text": [
      "[[2 2]\n",
      " [3 3]] \n",
      " [[4 4]\n",
      " [5 5]]\n"
     ]
    },
    {
     "data": {
      "text/plain": [
       "array([[18, 18],\n",
       "       [27, 27]])"
      ]
     },
     "execution_count": 36,
     "metadata": {},
     "output_type": "execute_result"
    }
   ],
   "source": [
    "print(ex5, \"\\n\", ex6)\n",
    "# Dot product (matrix product)\n",
    "# As expected, the result 18 = 2 * 4 + 2 * 5\n",
    "ex5.dot(ex6)"
   ]
  },
  {
   "cell_type": "markdown",
   "metadata": {},
   "source": [
    "### Get a sequence within a range by a certain step"
   ]
  },
  {
   "cell_type": "code",
   "execution_count": 37,
   "metadata": {},
   "outputs": [
    {
     "data": {
      "text/plain": [
       "array([1, 3, 5, 7, 9])"
      ]
     },
     "execution_count": 37,
     "metadata": {},
     "output_type": "execute_result"
    }
   ],
   "source": [
    "np.arange(1, 10, 2)"
   ]
  },
  {
   "cell_type": "markdown",
   "metadata": {},
   "source": [
    "### Filter values from one of two matrices If true, grab from the first matrix, else grab from second"
   ]
  },
  {
   "cell_type": "code",
   "execution_count": 38,
   "metadata": {},
   "outputs": [
    {
     "data": {
      "text/plain": [
       "array([[2, 4],\n",
       "       [5, 3]])"
      ]
     },
     "execution_count": 38,
     "metadata": {},
     "output_type": "execute_result"
    }
   ],
   "source": [
    "filter = np.array([[True, False], [False, True]])\n",
    "np.where(filter, ex5, ex6)"
   ]
  },
  {
   "cell_type": "markdown",
   "metadata": {},
   "source": [
    "## np statistics and set operations - array. `min(), max() ,mean(), sum(), median()`For these functions, you can specify axis = 0 or 1 to get values by column or row"
   ]
  },
  {
   "cell_type": "code",
   "execution_count": 39,
   "metadata": {},
   "outputs": [
    {
     "data": {
      "text/plain": [
       "(array([[100,   5, 110],\n",
       "        [106,   7, 108]]), array([106,   7, 110]), array([110, 108]))"
      ]
     },
     "execution_count": 39,
     "metadata": {},
     "output_type": "execute_result"
    }
   ],
   "source": [
    "a1, a1.max(axis = 0), a1.max(axis = 1)"
   ]
  },
  {
   "cell_type": "markdown",
   "metadata": {},
   "source": [
    "## Sorting Arrays and finding uniques - **array.sort(), np.unique(array)**"
   ]
  },
  {
   "cell_type": "code",
   "execution_count": 40,
   "metadata": {},
   "outputs": [
    {
     "name": "stdout",
     "output_type": "stream",
     "text": [
      "[[100   5 108]\n",
      " [106   7 110]]\n",
      "[[  5 100 108]\n",
      " [  7 106 110]]\n"
     ]
    },
    {
     "data": {
      "text/plain": [
       "array([  5,   7, 100, 106, 108, 110])"
      ]
     },
     "execution_count": 40,
     "metadata": {},
     "output_type": "execute_result"
    }
   ],
   "source": [
    "# If needed, create a new array to avoid modifying the original array\n",
    "# Sort by both rows and columns\n",
    "sorted = np.array(a1)\n",
    "sorted.sort(axis = 0)\n",
    "print(sorted)\n",
    "sorted.sort(axis = 1)\n",
    "print(sorted)\n",
    "print(np.unique(a1))"
   ]
  },
  {
   "cell_type": "markdown",
   "metadata": {},
   "source": [
    "# Dot product (matrix product)\n",
    "# As expected, the result 18 = 2 * 4 + 2 * 5\n",
    "ex5.dot(ex6)\n",
    "```\n",
    "[[2 2]\n",
    "[3 3]]\n",
    "[[4 4]\n",
    "[5 5]]\n",
    "array([[18, 18],\n",
    "[27, 27]])\n",
    "### Get a sequence within a range by a certain step\n",
    "```python\n",
    "np.arange(1, 10, 2)\n",
    "```\n",
    "array([1, 3, 5, 7, 9])\n",
    "### Filter values from one of two matrices\n",
    "If true, grab from the first matrix, else grab from second\n",
    "```python\n",
    "filter = np.array([[True, False], [False, True]])\n",
    "np.where(filter, ex5, ex6)\n",
    "```\n",
    "array([[2, 4],\n",
    "[5, 3]])\n",
    "## np statistics and set operations\n",
    "**Code:** array.`min(), max(), mean(), sum(), median()`\n",
    "For these functions, you can specify axis = 0 or 1 to get values by column or row\n",
    "```python\n",
    "a1, a1.max(axis = 0), a1.max(axis = 1)\n",
    "```\n",
    "(array([[100,   5, 110],\n",
    "[106,   7, 108]]), array([106,   7, 110]), array([110, 108]))\n",
    "## Sorting Arrays and finding uniques - **array.sort(), np.unique(array)**\n",
    "```python\n",
    "# If needed, create a new array to avoid modifying the original array\n",
    "# Sort by both rows and columns\n",
    "sorted = np.array(a1)\n",
    "sorted.sort(axis = 0)\n",
    "print(sorted)\n",
    "sorted.sort(axis = 1)\n",
    "print(sorted)\n",
    "print(np.unique(a1))\n",
    "```\n",
    "[[100   5 108]\n",
    "[106   7 110]]\n",
    "[[  5 100 108]\n",
    "[  7 106 110]]\n",
    "array([  5,   7, 100, 106, 108, 110])\n",
    "## Set operations on arrays"
   ]
  },
  {
   "cell_type": "code",
   "execution_count": 41,
   "metadata": {},
   "outputs": [],
   "source": [
    "s1 = np.array(['a', 'b', 'c'])\n",
    "s2 = np.array(['b', 'c', 'd'])"
   ]
  },
  {
   "cell_type": "markdown",
   "metadata": {},
   "source": [
    "### `intersect1d`Values that are in both"
   ]
  },
  {
   "cell_type": "code",
   "execution_count": 42,
   "metadata": {},
   "outputs": [
    {
     "data": {
      "text/plain": [
       "array(['b', 'c'], dtype='<U1')"
      ]
     },
     "execution_count": 42,
     "metadata": {},
     "output_type": "execute_result"
    }
   ],
   "source": [
    "np.intersect1d(s1, s2)"
   ]
  },
  {
   "cell_type": "markdown",
   "metadata": {},
   "source": [
    "### `setdiff1d*``['a']`, elements IN s1 but NOT in s2"
   ]
  },
  {
   "cell_type": "code",
   "execution_count": 43,
   "metadata": {},
   "outputs": [
    {
     "data": {
      "text/plain": [
       "array(['a'], dtype='<U1')"
      ]
     },
     "execution_count": 43,
     "metadata": {},
     "output_type": "execute_result"
    }
   ],
   "source": [
    "np.setdiff1d(s1, s2)"
   ]
  },
  {
   "cell_type": "markdown",
   "metadata": {},
   "source": [
    "`['d']`, elements IN s2 but NOT in s1"
   ]
  },
  {
   "cell_type": "code",
   "execution_count": 44,
   "metadata": {},
   "outputs": [
    {
     "data": {
      "text/plain": [
       "array(['a'], dtype='<U1')"
      ]
     },
     "execution_count": 44,
     "metadata": {},
     "output_type": "execute_result"
    }
   ],
   "source": [
    "np.setdiff1d(s1, s2)"
   ]
  },
  {
   "cell_type": "markdown",
   "metadata": {},
   "source": [
    "### `in1d``[False  True  True] `- which elements of s1 are in s2? boolean"
   ]
  },
  {
   "cell_type": "code",
   "execution_count": 45,
   "metadata": {},
   "outputs": [
    {
     "data": {
      "text/plain": [
       "array([False,  True,  True])"
      ]
     },
     "execution_count": 45,
     "metadata": {},
     "output_type": "execute_result"
    }
   ],
   "source": [
    "np.in1d(s1, s2)"
   ]
  },
  {
   "cell_type": "markdown",
   "metadata": {},
   "source": [
    "## BroadcastingPerform operations on differently sized arrays. Preset the values to be added, then spread them over another array. You can broadcast either a 1d array with appropriate dimensions in one dimension, or a scalar value."
   ]
  },
  {
   "cell_type": "code",
   "execution_count": 46,
   "metadata": {},
   "outputs": [
    {
     "data": {
      "text/plain": [
       "array([[1., 0., 2.],\n",
       "       [1., 0., 2.],\n",
       "       [1., 0., 2.],\n",
       "       [1., 0., 2.]])"
      ]
     },
     "execution_count": 46,
     "metadata": {},
     "output_type": "execute_result"
    }
   ],
   "source": [
    "start = np.zeros((4,3)) # zeros array 4 rows 3 columns\n",
    "add_rows = np.array([1, 0, 2])\n",
    "y = start + add_rows\n",
    "y"
   ]
  }
 ],
 "metadata": {
  "kernelspec": {
   "display_name": "Python 3",
   "language": "python",
   "name": "python3"
  },
  "language_info": {
   "codemirror_mode": {
    "name": "ipython",
    "version": 3
   },
   "file_extension": ".py",
   "mimetype": "text/x-python",
   "name": "python",
   "nbconvert_exporter": "python",
   "pygments_lexer": "ipython3",
   "version": "3.7.2"
  }
 },
 "nbformat": 4,
 "nbformat_minor": 2
}
