{
 "cells": [
  {
   "cell_type": "markdown",
   "metadata": {},
   "source": []
  },
  {
   "cell_type": "code",
   "execution_count": 21,
   "metadata": {},
   "outputs": [
    {
     "name": "stdout",
     "output_type": "stream",
     "text": [
      "/home/jcmint/anaconda3/envs/learningenv/bin/python\n"
     ]
    }
   ],
   "source": [
    "import sys",
    "print(sys.executable)",
    "from IPython.core.interactiveshell import InteractiveShell",
    "InteractiveShell.ast_node_interactivity = \"all\"",
    "InteractiveShell.colors = \"Linux\"",
    "InteractiveShell.separate_in = 0",
    "from tabulate import tabulate"
   ]
  },
  {
   "cell_type": "markdown",
   "metadata": {},
   "source": [
    "# Python Basics * Dynamic heap assignment, automatic garbage collection for objects with no pointers## Mutating lists and dictionariesList functions `list.append`, `list[index] = value`, `list.pop(index)`, `list.remove(value)`, `list.extend(value)`, `del(index)` all mutate the list. A list that was assigned as `newlist = list` before these functions are executed will point to the same mutated list.Dictionary funcitons `dict[('key')] = value`, `del(dict[('key')])` also mutate the dictionary similar as above. ## String & list functions"
   ]
  },
  {
   "cell_type": "code",
   "execution_count": 8,
   "metadata": {},
   "outputs": [
    {
     "data": {
      "text/plain": [
       "('el', True, 2)"
      ]
     },
     "execution_count": 8,
     "metadata": {},
     "output_type": "execute_result"
    }
   ],
   "source": [
    "# String functions",
    "word = 'Hello'",
    "word[1:3], 'He' in word, word.find('ll') # The lowest index start point"
   ]
  },
  {
   "cell_type": "markdown",
   "metadata": {},
   "source": [
    "# Python Basics",
    "* Dynamic heap assignment, automatic garbage collection for objects with no pointers",
    "## Mutating lists and dictionaries",
    "List functions `list.append`, `list[index] = value`, `list.pop(index)`, `list.remove(value)`, `list.extend(value)`, `del(index)` all mutate the list. A list that was assigned as `newlist = list` before these functions are executed will point to the same mutated list.",
    "Dictionary funcitons `dict[('key')] = value`, `del(dict[('key')])` also mutate the dictionary similar as above.",
    "## String & list functions",
    "```python",
    "# String functions",
    "word = 'Hello'",
    "word[1:3], 'He' in word, word.find('ll') # The lowest index start point",
    "```",
    "('el', True, 2)",
    "### Adding to lists"
   ]
  },
  {
   "cell_type": "code",
   "execution_count": 9,
   "metadata": {},
   "outputs": [
    {
     "data": {
      "text/plain": [
       "([0, 2, 3, 4], [0, 2, 3, 4])"
      ]
     },
     "execution_count": 9,
     "metadata": {},
     "output_type": "execute_result"
    }
   ],
   "source": [
    "list = [1,2,3]",
    "newlist = list",
    "list.append(4)",
    "list[0] = 0",
    "list, newlist"
   ]
  },
  {
   "cell_type": "markdown",
   "metadata": {},
   "source": [
    "### Removing elements (pop)",
    "**Code:** `pop`* Notice that list.pop(2) returns the element at position 2 in `list`* The int 3 is removed from list, and assigned to list2"
   ]
  },
  {
   "cell_type": "code",
   "execution_count": 10,
   "metadata": {},
   "outputs": [
    {
     "data": {
      "text/plain": [
       "(3, [0, 2, 4], int)"
      ]
     },
     "execution_count": 10,
     "metadata": {},
     "output_type": "execute_result"
    }
   ],
   "source": [
    "list2 = list.pop(2)",
    "list2, list, type(list2)"
   ]
  },
  {
   "cell_type": "markdown",
   "metadata": {},
   "source": [
    "### Removing elements (remove)",
    "**Code:** `remove`list.remove(2) does not return a value - it just removes the value '1' (not the value at index = 1)"
   ]
  },
  {
   "cell_type": "code",
   "execution_count": 11,
   "metadata": {},
   "outputs": [
    {
     "data": {
      "text/plain": [
       "(None, [0, 4], [0, 4])"
      ]
     },
     "execution_count": 11,
     "metadata": {},
     "output_type": "execute_result"
    }
   ],
   "source": [
    "list3 = list.remove(2)",
    "list3, list, newlist"
   ]
  },
  {
   "cell_type": "markdown",
   "metadata": {},
   "source": [
    "### Adding to list (extend)",
    "**Code:** `extend``newlist` continues to be mutated along with `list`"
   ]
  },
  {
   "cell_type": "code",
   "execution_count": 12,
   "metadata": {},
   "outputs": [
    {
     "data": {
      "text/plain": [
       "([0, 4, 5, 6], [0, 4, 5, 6])"
      ]
     },
     "execution_count": 12,
     "metadata": {},
     "output_type": "execute_result"
    }
   ],
   "source": [
    "list4 = [5, 6]",
    "list.extend(list4)",
    "list, newlist"
   ]
  },
  {
   "cell_type": "markdown",
   "metadata": {},
   "source": [
    "### Removing elements (del)",
    "**Code:** `del``del` deletes the value at an INDEX, and returns nothing."
   ]
  },
  {
   "cell_type": "code",
   "execution_count": 202,
   "metadata": {},
   "outputs": [
    {
     "data": {
      "text/plain": [
       "([0, 4, 6], [0, 4, 6])"
      ]
     },
     "execution_count": 202,
     "metadata": {},
     "output_type": "execute_result"
    }
   ],
   "source": [
    "newlist = list",
    "del(list[2])",
    "list, newlist"
   ]
  },
  {
   "cell_type": "markdown",
   "metadata": {},
   "source": [
    "## Dictionaries* unordered Key-value pairs* anything can be a value in a dictionary* a Key can be a tuple since it is immutable### Adding dictionary pair"
   ]
  },
  {
   "cell_type": "code",
   "execution_count": 28,
   "metadata": {},
   "outputs": [
    {
     "data": {
      "text/plain": [
       "{('String', 2000): 2, ('string2', 2001): 3, 'mykey': 2, 2: 'myvalue'}"
      ]
     },
     "execution_count": 28,
     "metadata": {},
     "output_type": "execute_result"
    }
   ],
   "source": [
    "dict = {('String', 2000): 2}",
    "dict[('string2', 2001)] = 3",
    "dict[('mykey')] = 2",
    "dict[(2)] = 'myvalue'",
    "dict"
   ]
  },
  {
   "cell_type": "code",
   "execution_count": 29,
   "metadata": {},
   "outputs": [
    {
     "data": {
      "text/plain": [
       "(None, True, 'myvalue', False, False)"
      ]
     },
     "execution_count": 29,
     "metadata": {},
     "output_type": "execute_result"
    }
   ],
   "source": [
    "# Returning the value at specific key (tuple, int, string)",
    "x = dict.get(('string3', 2002))",
    "y = dict.get(2)",
    "x, x == None, y, y == None, 'myid' in dict"
   ]
  },
  {
   "cell_type": "markdown",
   "metadata": {},
   "source": [
    "### Removing elements (pop)",
    "**Code:** `pop``3` is the value, the rest is `dict`"
   ]
  },
  {
   "cell_type": "code",
   "execution_count": 30,
   "metadata": {},
   "outputs": [
    {
     "data": {
      "text/plain": [
       "(3, {('String', 2000): 2, 'mykey': 2, 2: 'myvalue'})"
      ]
     },
     "execution_count": 30,
     "metadata": {},
     "output_type": "execute_result"
    }
   ],
   "source": [
    "dict.pop(('string2', 2001)), dict"
   ]
  },
  {
   "cell_type": "markdown",
   "metadata": {},
   "source": [
    "### Removing elements (del)",
    "**Code:** `del`newdict similar to newlist is mutated along with the original object"
   ]
  },
  {
   "cell_type": "code",
   "execution_count": 31,
   "metadata": {},
   "outputs": [
    {
     "data": {
      "text/plain": [
       "({('String', 2000): 2, 2: 'myvalue'}, {('String', 2000): 2, 2: 'myvalue'})"
      ]
     },
     "execution_count": 31,
     "metadata": {},
     "output_type": "execute_result"
    }
   ],
   "source": [
    "newdict = dict",
    "del(dict[('mykey')])",
    "dict, newdict"
   ]
  },
  {
   "cell_type": "markdown",
   "metadata": {},
   "source": [
    "## Iterating through dictionaries by key value pairs* don't mutate data structures through which you are iterating* instead, iterate through dictionary while appending to a to-do list* Then, iterate through the to-do list while mutating the dictionary* Therefore you never iterate and mutate the same data structure simultaneously"
   ]
  },
  {
   "cell_type": "code",
   "execution_count": 17,
   "metadata": {},
   "outputs": [
    {
     "name": "stdout",
     "output_type": "stream",
     "text": [
      "('String', 2000) 2\n",
      "2 myvalue\n"
     ]
    }
   ],
   "source": [
    "for key, value in dict.items():",
    "print(key, value)"
   ]
  }
 ],
 "metadata": {
  "kernelspec": {
   "display_name": "Python 3",
   "language": "python",
   "name": "python3"
  },
  "language_info": {
   "codemirror_mode": {
    "name": "ipython",
    "version": 3
   },
   "file_extension": ".py",
   "mimetype": "text/x-python",
   "name": "python",
   "nbconvert_exporter": "python",
   "pygments_lexer": "ipython3",
   "version": "3.7.2"
  }
 },
 "nbformat": 4,
 "nbformat_minor": 2
}