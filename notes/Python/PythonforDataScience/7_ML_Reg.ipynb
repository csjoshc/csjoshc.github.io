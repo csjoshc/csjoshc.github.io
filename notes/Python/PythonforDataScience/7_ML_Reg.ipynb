{
 "cells": [
  {
   "cell_type": "markdown",
   "metadata": {},
   "source": [
    "<head>\n",
    "<link rel=\"stylesheet\" href=\"../../../cssthemes/github.css\">\n",
    "<meta name=\"viewport\" content=\"initial-scale=1, width=device-width\">\n",
    "</head>"
   ]
  },
  {
   "cell_type": "code",
   "execution_count": 237,
   "metadata": {},
   "outputs": [
    {
     "name": "stdout",
     "output_type": "stream",
     "text": [
      "/home/jcmint/anaconda3/envs/learningenv/bin/python\n"
     ]
    }
   ],
   "source": [
    "import sys\n",
    "print(sys.executable)\n",
    "from IPython.core.interactiveshell import InteractiveShell\n",
    "InteractiveShell.ast_node_interactivity = \"all\"\n",
    "InteractiveShell.colors = \"Linux\"\n",
    "InteractiveShell.separate_in = 0\n",
    "from random import randint\n",
    "import matplotlib\n",
    "import matplotlib.pyplot as plt\n",
    "import numpy as np\n",
    "from matplotlib import style\n",
    "style.use('fivethirtyeight')\n",
    "import pandas as pd\n",
    "from sklearn.tree import DecisionTreeRegressor\n",
    "from sklearn.linear_model import LinearRegression\n",
    "from sklearn.model_selection import train_test_split\n",
    "from sklearn.metrics import mean_squared_error, r2_score\n",
    "from math import sqrt\n",
    "import seaborn as sns\n",
    "from plotnine import ggplot, geom_histogram, aes"
   ]
  },
  {
   "cell_type": "markdown",
   "metadata": {},
   "source": [
    "# Linear and Decision Tree Regression\n",
    "Linear model and decision tree regression seem pretty straightforward.\n",
    "Here I want to see if the RMSE is decreased for a regression model based on 1960 through 2014 data that is predicting `Population, total` as a function of all other variables. I would need to filter by year, drop all but three columns (country, indicator type and value) and pivot the table on the country name to get a wide data set. This can be fed directly into the linear regression model.\n",
    "Then, iterate through random training and testing data split to get a distribution of RMSE values. Graph the RMSE of as the prediction error vs year on the x axis.\n",
    "This exercise was somewhat contrived, and I ended up using a simple time series manipulation of the data for demonstration purposes."
   ]
  },
  {
   "cell_type": "code",
   "execution_count": 66,
   "metadata": {},
   "outputs": [],
   "source": [
    "indicators = pd.read_csv('../../../../data/w5vis/Indicators.csv')"
   ]
  },
  {
   "cell_type": "code",
   "execution_count": 67,
   "metadata": {},
   "outputs": [
    {
     "data": {
      "text/html": [
       "<div>\n",
       "<style scoped>\n",
       "    .dataframe tbody tr th:only-of-type {\n",
       "        vertical-align: middle;\n",
       "    }\n",
       "\n",
       "    .dataframe tbody tr th {\n",
       "        vertical-align: top;\n",
       "    }\n",
       "\n",
       "    .dataframe thead th {\n",
       "        text-align: right;\n",
       "    }\n",
       "</style>\n",
       "<table border=\"1\" class=\"dataframe\">\n",
       "  <thead>\n",
       "    <tr style=\"text-align: right;\">\n",
       "      <th></th>\n",
       "      <th>CountryName</th>\n",
       "      <th>CountryCode</th>\n",
       "      <th>IndicatorName</th>\n",
       "      <th>IndicatorCode</th>\n",
       "      <th>Year</th>\n",
       "      <th>Value</th>\n",
       "    </tr>\n",
       "  </thead>\n",
       "  <tbody>\n",
       "    <tr>\n",
       "      <th>0</th>\n",
       "      <td>Arab World</td>\n",
       "      <td>ARB</td>\n",
       "      <td>Adolescent fertility rate (births per 1,000 wo...</td>\n",
       "      <td>SP.ADO.TFRT</td>\n",
       "      <td>1960</td>\n",
       "      <td>1.335609e+02</td>\n",
       "    </tr>\n",
       "    <tr>\n",
       "      <th>1</th>\n",
       "      <td>Arab World</td>\n",
       "      <td>ARB</td>\n",
       "      <td>Age dependency ratio (% of working-age populat...</td>\n",
       "      <td>SP.POP.DPND</td>\n",
       "      <td>1960</td>\n",
       "      <td>8.779760e+01</td>\n",
       "    </tr>\n",
       "    <tr>\n",
       "      <th>2</th>\n",
       "      <td>Arab World</td>\n",
       "      <td>ARB</td>\n",
       "      <td>Age dependency ratio, old (% of working-age po...</td>\n",
       "      <td>SP.POP.DPND.OL</td>\n",
       "      <td>1960</td>\n",
       "      <td>6.634579e+00</td>\n",
       "    </tr>\n",
       "    <tr>\n",
       "      <th>3</th>\n",
       "      <td>Arab World</td>\n",
       "      <td>ARB</td>\n",
       "      <td>Age dependency ratio, young (% of working-age ...</td>\n",
       "      <td>SP.POP.DPND.YG</td>\n",
       "      <td>1960</td>\n",
       "      <td>8.102333e+01</td>\n",
       "    </tr>\n",
       "    <tr>\n",
       "      <th>4</th>\n",
       "      <td>Arab World</td>\n",
       "      <td>ARB</td>\n",
       "      <td>Arms exports (SIPRI trend indicator values)</td>\n",
       "      <td>MS.MIL.XPRT.KD</td>\n",
       "      <td>1960</td>\n",
       "      <td>3.000000e+06</td>\n",
       "    </tr>\n",
       "  </tbody>\n",
       "</table>\n",
       "</div>"
      ],
      "text/plain": [
       "  CountryName CountryCode                                      IndicatorName  \\\n",
       "0  Arab World         ARB  Adolescent fertility rate (births per 1,000 wo...   \n",
       "1  Arab World         ARB  Age dependency ratio (% of working-age populat...   \n",
       "2  Arab World         ARB  Age dependency ratio, old (% of working-age po...   \n",
       "3  Arab World         ARB  Age dependency ratio, young (% of working-age ...   \n",
       "4  Arab World         ARB        Arms exports (SIPRI trend indicator values)   \n",
       "\n",
       "    IndicatorCode  Year         Value  \n",
       "0     SP.ADO.TFRT  1960  1.335609e+02  \n",
       "1     SP.POP.DPND  1960  8.779760e+01  \n",
       "2  SP.POP.DPND.OL  1960  6.634579e+00  \n",
       "3  SP.POP.DPND.YG  1960  8.102333e+01  \n",
       "4  MS.MIL.XPRT.KD  1960  3.000000e+06  "
      ]
     },
     "execution_count": 67,
     "metadata": {},
     "output_type": "execute_result"
    },
    {
     "data": {
      "text/html": [
       "<div>\n",
       "<style scoped>\n",
       "    .dataframe tbody tr th:only-of-type {\n",
       "        vertical-align: middle;\n",
       "    }\n",
       "\n",
       "    .dataframe tbody tr th {\n",
       "        vertical-align: top;\n",
       "    }\n",
       "\n",
       "    .dataframe thead th {\n",
       "        text-align: right;\n",
       "    }\n",
       "</style>\n",
       "<table border=\"1\" class=\"dataframe\">\n",
       "  <thead>\n",
       "    <tr style=\"text-align: right;\">\n",
       "      <th></th>\n",
       "      <th>CountryName</th>\n",
       "      <th>IndicatorName</th>\n",
       "      <th>Value</th>\n",
       "    </tr>\n",
       "  </thead>\n",
       "  <tbody>\n",
       "    <tr>\n",
       "      <th>4839015</th>\n",
       "      <td>Arab World</td>\n",
       "      <td>Access to electricity (% of population)</td>\n",
       "      <td>84.342225</td>\n",
       "    </tr>\n",
       "    <tr>\n",
       "      <th>4839016</th>\n",
       "      <td>Arab World</td>\n",
       "      <td>Access to electricity, rural (% of rural popul...</td>\n",
       "      <td>71.969903</td>\n",
       "    </tr>\n",
       "    <tr>\n",
       "      <th>4839017</th>\n",
       "      <td>Arab World</td>\n",
       "      <td>Access to electricity, urban (% of urban popul...</td>\n",
       "      <td>93.828463</td>\n",
       "    </tr>\n",
       "    <tr>\n",
       "      <th>4839018</th>\n",
       "      <td>Arab World</td>\n",
       "      <td>Access to non-solid fuel (% of population)</td>\n",
       "      <td>86.003666</td>\n",
       "    </tr>\n",
       "    <tr>\n",
       "      <th>4839019</th>\n",
       "      <td>Arab World</td>\n",
       "      <td>Access to non-solid fuel, rural (% of rural po...</td>\n",
       "      <td>74.552598</td>\n",
       "    </tr>\n",
       "  </tbody>\n",
       "</table>\n",
       "</div>"
      ],
      "text/plain": [
       "        CountryName                                      IndicatorName  \\\n",
       "4839015  Arab World            Access to electricity (% of population)   \n",
       "4839016  Arab World  Access to electricity, rural (% of rural popul...   \n",
       "4839017  Arab World  Access to electricity, urban (% of urban popul...   \n",
       "4839018  Arab World         Access to non-solid fuel (% of population)   \n",
       "4839019  Arab World  Access to non-solid fuel, rural (% of rural po...   \n",
       "\n",
       "             Value  \n",
       "4839015  84.342225  \n",
       "4839016  71.969903  \n",
       "4839017  93.828463  \n",
       "4839018  86.003666  \n",
       "4839019  74.552598  "
      ]
     },
     "execution_count": 67,
     "metadata": {},
     "output_type": "execute_result"
    }
   ],
   "source": [
    "indicators.head()"
   ]
  },
  {
   "cell_type": "code",
   "execution_count": 114,
   "metadata": {},
   "outputs": [],
   "source": [
    "%%capture\n",
    "# preallocate dataframe\n",
    "output = pd.DataFrame(columns = ['Year', 'Amount of Data', 'RMSE Average', 'R Squared Average'], index = range(0, 2015 - 1960))\n",
    "j = 0;\n",
    "# Calculate RMSE for each regression model based on year\n",
    "for i in range(1960, 2015, 1):\n",
    "test = indicators.copy()\n",
    "test = test[test['Year'] == i]\n",
    "del test['CountryCode']\n",
    "del test['IndicatorCode']\n",
    "del test['Year']\n",
    "wide = test.pivot(index='CountryName', columns='IndicatorName', values='Value')\n",
    "wide = wide[~wide['Population, total'].isna()]# drop any rows missing the target variable - this ensures that I won't drop the column by accident later..\n",
    "wide = wide.dropna(axis = 1, thresh = 0.85*len(wide))\n",
    "wide = wide.dropna(axis = 0, how = \"any\")\n",
    "#print(\"Year: \", i, \"; Remaining rows and columns\", wide.shape, \"; Total amount of data: \", wide.shape[0] * wide.shape[1], \"; Any Missing data? \", wide.isnull().values.any())\n",
    "x = wide.loc[:, wide.columns != 'Population, total']\n",
    "y = wide['Population, total']\n",
    "RMSE = [None] * 10\n",
    "r2 = [None] * 10\n",
    "for k in range(0, 10, 1):\n",
    "x_train, x_test, y_train, y_test = train_test_split(x, y, test_size=0.33, random_state=randint(0,1000000));\n",
    "regressor = LinearRegression();\n",
    "regressor.fit(x_train, y_train);\n",
    "y_prediction = regressor.predict(x_test);\n",
    "RMSE[k] = sqrt(mean_squared_error(y_true = y_test, y_pred = y_prediction));\n",
    "r2[k] = r2_score(y_true = y_test, y_pred = y_prediction)\n",
    "output.iloc[j, 0] = i\n",
    "output.iloc[j, 1] = wide.shape[0] * wide.shape[1]\n",
    "output.iloc[j, 2] = sum(RMSE)/len(RMSE)\n",
    "output.iloc[j, 3] = sum(r2)/len(r2)\n",
    "j+=1"
   ]
  },
  {
   "cell_type": "markdown",
   "metadata": {},
   "source": [
    "I tested the processing of data by year to get rid of NA values. When iterating through the available years I want to"
   ]
  },
  {
   "cell_type": "code",
   "execution_count": 186,
   "metadata": {},
   "outputs": [
    {
     "data": {
      "text/html": [
       "<div>\n",
       "<style scoped>\n",
       "    .dataframe tbody tr th:only-of-type {\n",
       "        vertical-align: middle;\n",
       "    }\n",
       "\n",
       "    .dataframe tbody tr th {\n",
       "        vertical-align: top;\n",
       "    }\n",
       "\n",
       "    .dataframe thead th {\n",
       "        text-align: right;\n",
       "    }\n",
       "</style>\n",
       "<table border=\"1\" class=\"dataframe\">\n",
       "  <thead>\n",
       "    <tr style=\"text-align: right;\">\n",
       "      <th></th>\n",
       "      <th>Year</th>\n",
       "      <th>Amount of Data</th>\n",
       "      <th>RMSE Average</th>\n",
       "      <th>R Squared Average</th>\n",
       "    </tr>\n",
       "  </thead>\n",
       "  <tbody>\n",
       "    <tr>\n",
       "      <th>0</th>\n",
       "      <td>1960</td>\n",
       "      <td>2254</td>\n",
       "      <td>9.11015e+07</td>\n",
       "      <td>0.036731</td>\n",
       "    </tr>\n",
       "    <tr>\n",
       "      <th>1</th>\n",
       "      <td>1961</td>\n",
       "      <td>2688</td>\n",
       "      <td>1.01918e+08</td>\n",
       "      <td>0.877477</td>\n",
       "    </tr>\n",
       "    <tr>\n",
       "      <th>2</th>\n",
       "      <td>1962</td>\n",
       "      <td>3330</td>\n",
       "      <td>1.35075e+08</td>\n",
       "      <td>0.853944</td>\n",
       "    </tr>\n",
       "    <tr>\n",
       "      <th>3</th>\n",
       "      <td>1963</td>\n",
       "      <td>3162</td>\n",
       "      <td>4.26152e+08</td>\n",
       "      <td>-2.74594</td>\n",
       "    </tr>\n",
       "    <tr>\n",
       "      <th>4</th>\n",
       "      <td>1964</td>\n",
       "      <td>3162</td>\n",
       "      <td>4.32376e+08</td>\n",
       "      <td>-2.71138</td>\n",
       "    </tr>\n",
       "  </tbody>\n",
       "</table>\n",
       "</div>"
      ],
      "text/plain": [
       "   Year Amount of Data RMSE Average R Squared Average\n",
       "0  1960           2254  9.11015e+07          0.036731\n",
       "1  1961           2688  1.01918e+08          0.877477\n",
       "2  1962           3330  1.35075e+08          0.853944\n",
       "3  1963           3162  4.26152e+08          -2.74594\n",
       "4  1964           3162  4.32376e+08          -2.71138"
      ]
     },
     "execution_count": 186,
     "metadata": {},
     "output_type": "execute_result"
    }
   ],
   "source": [
    "output.head()"
   ]
  },
  {
   "cell_type": "markdown",
   "metadata": {},
   "source": [
    "After being stumped for a while, I realized what I was doing wrong. This was a somewhat silly example because there are many columns which may be 100% colinear with the `Population, total` column."
   ]
  },
  {
   "cell_type": "code",
   "execution_count": 130,
   "metadata": {},
   "outputs": [
    {
     "data": {
      "text/plain": [
       "Index(['Adult literacy rate, population 15+ years, both sexes (%)',\n",
       "       'Adult literacy rate, population 15+ years, female (%)',\n",
       "       'Adult literacy rate, population 15+ years, male (%)',\n",
       "       'Age dependency ratio (% of working-age population)',\n",
       "       'Age dependency ratio, old (% of working-age population)',\n",
       "       'Age dependency ratio, young (% of working-age population)',\n",
       "       'Annualized average growth rate in per capita real survey mean consumption or income, bottom 40% of population (%)',\n",
       "       'Annualized average growth rate in per capita real survey mean consumption or income, total population (%)',\n",
       "       'Condom use, population ages 15-24, female (% of females ages 15-24)',\n",
       "       'Condom use, population ages 15-24, male (% of males ages 15-24)'],\n",
       "      dtype='object', name='IndicatorName')"
      ]
     },
     "execution_count": 130,
     "metadata": {},
     "output_type": "execute_result"
    },
    {
     "data": {
      "text/plain": [
       "63"
      ]
     },
     "execution_count": 130,
     "metadata": {},
     "output_type": "execute_result"
    }
   ],
   "source": [
    "test = indicators.copy()\n",
    "test = test[test['Year'] == i]\n",
    "del test['CountryCode']\n",
    "del test['IndicatorCode']\n",
    "del test['Year']\n",
    "wide = test.pivot(index='CountryName', columns='IndicatorName', values='Value')\n",
    "wide.columns[wide.columns.str.contains(\"pop\")][0:10]\n",
    "len(wide.columns[wide.columns.str.contains(\"pop\")])"
   ]
  },
  {
   "cell_type": "markdown",
   "metadata": {},
   "source": [
    "Therefore, I need to drop these rows to make my example actually 'predict' values."
   ]
  },
  {
   "cell_type": "code",
   "execution_count": 183,
   "metadata": {},
   "outputs": [],
   "source": [
    "%%capture\n",
    "# preallocate dataframe\n",
    "output = pd.DataFrame(columns = ['Year', 'Amount of Data', 'RMSE Average', 'R Squared Average'], index = range(0, 2015 - 1960))\n",
    "j = 0;\n",
    "# Calculate RMSE for each regression model based on year\n",
    "for i in range(1960, 2015, 1):\n",
    "test = indicators.copy()\n",
    "test = test[test['Year'] == i]\n",
    "del test['CountryCode']\n",
    "del test['IndicatorCode']\n",
    "del test['Year']\n",
    "wide = test.pivot(index='CountryName', columns='IndicatorName', values='Value')\n",
    "wide = wide[~wide['Population, total'].isna()]# drop any rows missing the target variable - this ensures that I won't drop the column by accident later..\n",
    "wide = wide.dropna(axis = 1, thresh = 0.85*len(wide))\n",
    "wide = wide.dropna(axis = 0, how = \"any\")\n",
    "#print(\"Year: \", i, \"; Remaining rows and columns\", wide.shape, \"; Total amount of data: \", wide.shape[0] * wide.shape[1], \"; Any Missing data? \", wide.isnull().values.any())\n",
    "y = wide['Population, total']\n",
    "# Drop potentially colinear variables (my guess)\n",
    "wide = wide[wide.columns.drop(list(wide.filter(regex='pop')))]\n",
    "wide = wide[wide.columns.drop(list(wide.filter(regex='Pop')))]\n",
    "x = wide.loc[:, wide.columns != 'Population, total']\n",
    "RMSE = [None] * 10\n",
    "r2 = [None] * 10\n",
    "for k in range(0, 10, 1):\n",
    "x_train, x_test, y_train, y_test = train_test_split(wide, y, test_size=0.33, random_state=324);\n",
    "regressor = LinearRegression();\n",
    "regressor.fit(x_train, y_train);\n",
    "y_prediction = regressor.predict(x_test);\n",
    "RMSE[k] = sqrt(mean_squared_error(y_true = y_test, y_pred = y_prediction));\n",
    "r2[k] = r2_score(y_true = y_test, y_pred = y_prediction)\n",
    "output.iloc[j, 0] = i\n",
    "output.iloc[j, 1] = wide.shape[0] * wide.shape[1]\n",
    "output.iloc[j, 2] = sum(RMSE)/len(RMSE)\n",
    "output.iloc[j, 3] = sum(r2)/len(r2)\n",
    "j+=1"
   ]
  },
  {
   "cell_type": "markdown",
   "metadata": {},
   "source": [
    "Trying to get this example to work may be too contrived without manual PCA or feature selection, so I decided to just try another approach - generate a linear regression model for each country as a function of year."
   ]
  },
  {
   "cell_type": "code",
   "execution_count": 218,
   "metadata": {},
   "outputs": [],
   "source": [
    "%%capture\n",
    "countries = indicators['CountryName'].unique().tolist()\n",
    "output = pd.DataFrame(columns = ['Country', 'RMSE Average', 'R Squared Average'], index = range(0, len(countries) + 1))\n",
    "k = 0\n",
    "for i in countries:\n",
    "wide = indicators.copy()\n",
    "del wide['CountryCode']\n",
    "del wide['IndicatorCode']\n",
    "cond_1 = wide['CountryName'] == i\n",
    "cond_2 = wide['IndicatorName'] == 'Population, total'\n",
    "wide = wide[cond_1 & cond_2]\n",
    "del wide['IndicatorName']\n",
    "RMSE = [None] * 10\n",
    "r2 = [None] * 10\n",
    "for j in range(0, 10, 1):\n",
    "x_train, x_test, y_train, y_test = train_test_split(pd.DataFrame(wide['Year']), pd.DataFrame(wide['Value']), test_size=0.33, random_state=randint(0,1000000))\n",
    "regressor = LinearRegression();\n",
    "regressor.fit(x_train, y_train);\n",
    "y_prediction = regressor.predict(x_test);\n",
    "RMSE[j] = sqrt(mean_squared_error(y_true = y_test, y_pred = y_prediction));\n",
    "r2[j] = r2_score(y_true = y_test, y_pred = y_prediction)\n",
    "output.iloc[k, 0] = i\n",
    "output.iloc[k, 1] = sum(RMSE)/len(RMSE)\n",
    "output.iloc[k, 2] = sum(r2)/len(r2)\n",
    "k+=1"
   ]
  },
  {
   "cell_type": "code",
   "execution_count": 261,
   "metadata": {},
   "outputs": [
    {
     "data": {
      "text/html": [
       "<div>\n",
       "<style scoped>\n",
       "    .dataframe tbody tr th:only-of-type {\n",
       "        vertical-align: middle;\n",
       "    }\n",
       "\n",
       "    .dataframe tbody tr th {\n",
       "        vertical-align: top;\n",
       "    }\n",
       "\n",
       "    .dataframe thead th {\n",
       "        text-align: right;\n",
       "    }\n",
       "</style>\n",
       "<table border=\"1\" class=\"dataframe\">\n",
       "  <thead>\n",
       "    <tr style=\"text-align: right;\">\n",
       "      <th></th>\n",
       "      <th>Country</th>\n",
       "      <th>RMSE Average</th>\n",
       "      <th>R Squared Average</th>\n",
       "    </tr>\n",
       "  </thead>\n",
       "  <tbody>\n",
       "    <tr>\n",
       "      <th>0</th>\n",
       "      <td>Arab World</td>\n",
       "      <td>1.19366e+07</td>\n",
       "      <td>0.981009</td>\n",
       "    </tr>\n",
       "    <tr>\n",
       "      <th>1</th>\n",
       "      <td>Caribbean small states</td>\n",
       "      <td>80474.8</td>\n",
       "      <td>0.990475</td>\n",
       "    </tr>\n",
       "    <tr>\n",
       "      <th>2</th>\n",
       "      <td>Central Europe and the Baltics</td>\n",
       "      <td>4.43389e+06</td>\n",
       "      <td>0.236114</td>\n",
       "    </tr>\n",
       "    <tr>\n",
       "      <th>3</th>\n",
       "      <td>East Asia &amp; Pacific (all income levels)</td>\n",
       "      <td>3.7243e+07</td>\n",
       "      <td>0.989137</td>\n",
       "    </tr>\n",
       "    <tr>\n",
       "      <th>4</th>\n",
       "      <td>East Asia &amp; Pacific (developing only)</td>\n",
       "      <td>3.27897e+07</td>\n",
       "      <td>0.991255</td>\n",
       "    </tr>\n",
       "  </tbody>\n",
       "</table>\n",
       "</div>"
      ],
      "text/plain": [
       "                                   Country RMSE Average R Squared Average\n",
       "0                               Arab World  1.19366e+07          0.981009\n",
       "1                   Caribbean small states      80474.8          0.990475\n",
       "2           Central Europe and the Baltics  4.43389e+06          0.236114\n",
       "3  East Asia & Pacific (all income levels)   3.7243e+07          0.989137\n",
       "4    East Asia & Pacific (developing only)  3.27897e+07          0.991255"
      ]
     },
     "execution_count": 261,
     "metadata": {},
     "output_type": "execute_result"
    },
    {
     "data": {
      "text/html": [
       "<div>\n",
       "<style scoped>\n",
       "    .dataframe tbody tr th:only-of-type {\n",
       "        vertical-align: middle;\n",
       "    }\n",
       "\n",
       "    .dataframe tbody tr th {\n",
       "        vertical-align: top;\n",
       "    }\n",
       "\n",
       "    .dataframe thead th {\n",
       "        text-align: right;\n",
       "    }\n",
       "</style>\n",
       "<table border=\"1\" class=\"dataframe\">\n",
       "  <thead>\n",
       "    <tr style=\"text-align: right;\">\n",
       "      <th></th>\n",
       "      <th>Country</th>\n",
       "      <th>RMSE Average</th>\n",
       "      <th>R Squared Average</th>\n",
       "    </tr>\n",
       "  </thead>\n",
       "  <tbody>\n",
       "    <tr>\n",
       "      <th>201</th>\n",
       "      <td>Sint Maarten (Dutch part)</td>\n",
       "      <td>2924.69</td>\n",
       "      <td>-0.297575</td>\n",
       "    </tr>\n",
       "    <tr>\n",
       "      <th>210</th>\n",
       "      <td>St. Kitts and Nevis</td>\n",
       "      <td>4084.1</td>\n",
       "      <td>-0.19532</td>\n",
       "    </tr>\n",
       "    <tr>\n",
       "      <th>80</th>\n",
       "      <td>Croatia</td>\n",
       "      <td>163570</td>\n",
       "      <td>-0.150368</td>\n",
       "    </tr>\n",
       "    <tr>\n",
       "      <th>145</th>\n",
       "      <td>Lithuania</td>\n",
       "      <td>272980</td>\n",
       "      <td>-0.14565</td>\n",
       "    </tr>\n",
       "    <tr>\n",
       "      <th>94</th>\n",
       "      <td>Estonia</td>\n",
       "      <td>92947.5</td>\n",
       "      <td>-0.117783</td>\n",
       "    </tr>\n",
       "  </tbody>\n",
       "</table>\n",
       "</div>"
      ],
      "text/plain": [
       "                       Country RMSE Average R Squared Average\n",
       "201  Sint Maarten (Dutch part)      2924.69         -0.297575\n",
       "210        St. Kitts and Nevis       4084.1          -0.19532\n",
       "80                     Croatia       163570         -0.150368\n",
       "145                  Lithuania       272980          -0.14565\n",
       "94                     Estonia      92947.5         -0.117783"
      ]
     },
     "execution_count": 261,
     "metadata": {},
     "output_type": "execute_result"
    },
    {
     "data": {
      "text/plain": [
       "DescribeResult(nobs=247, minmax=(-0.29757490589067603, 0.9996578791364774), mean=0.8691825934749658, variance=0.06901810751504184, skewness=-2.9841692292997424, kurtosis=8.029106379317444)"
      ]
     },
     "execution_count": 261,
     "metadata": {},
     "output_type": "execute_result"
    }
   ],
   "source": [
    "output.head()\n",
    "output = output.dropna()\n",
    "output.sort_values('R Squared Average').head()\n",
    "from scipy.stats import describe\n",
    "describe(output['R Squared Average'])"
   ]
  },
  {
   "cell_type": "markdown",
   "metadata": {},
   "source": [
    "Running the code ended up taking about 10 minutes for 2460 linear regression models. I also graph the pop for a random country with a negative r2 value."
   ]
  },
  {
   "cell_type": "code",
   "execution_count": 224,
   "metadata": {},
   "outputs": [
    {
     "data": {
      "text/plain": [
       "<matplotlib.axes._subplots.AxesSubplot at 0x7f3a9ed69cc0>"
      ]
     },
     "execution_count": 224,
     "metadata": {},
     "output_type": "execute_result"
    },
    {
     "data": {
      "image/png": "[encoded data removed]",
      "text/plain": [
       "<Figure size 432x288 with 1 Axes>"
      ]
     },
     "metadata": {},
     "output_type": "display_data"
    }
   ],
   "source": [
    "wide = indicators.copy()\n",
    "del wide['CountryCode']\n",
    "del wide['IndicatorCode']\n",
    "cond_1 = wide['CountryName'] == 'Ukraine'\n",
    "cond_2 = wide['IndicatorName'] == 'Population, total'\n",
    "wide = wide[cond_1 & cond_2]\n",
    "del wide['IndicatorName']\n",
    "sns.scatterplot(x = 'Year', y='Value', data  = wide)"
   ]
  },
  {
   "cell_type": "code",
   "execution_count": null,
   "metadata": {},
   "outputs": [],
   "source": []
  }
 ],
 "metadata": {
  "kernelspec": {
   "display_name": "Python 3",
   "language": "python",
   "name": "python3"
  },
  "language_info": {
   "codemirror_mode": {
    "name": "ipython",
    "version": 3
   },
   "file_extension": ".py",
   "mimetype": "text/x-python",
   "name": "python",
   "nbconvert_exporter": "python",
   "pygments_lexer": "ipython3",
   "version": "3.7.2"
  }
 },
 "nbformat": 4,
 "nbformat_minor": 2
}
