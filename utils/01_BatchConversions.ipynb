{
 "cells": [
  {
   "cell_type": "markdown",
   "metadata": {},
   "source": [
    "<a href=\"../index.html\">Go back to index</a>\n",
    "\n",
    "<a href=\"base.html\">Go back to Utilities Portal</a>\n",
    "\n",
    "<head>\n",
    "  <link rel=\"stylesheet\" href=\"../cssthemes/github.css\">\n",
    "  <meta name=\"viewport\" content=\"initial-scale=1, width=device-width\">\n",
    "</head>\n"
   ]
  },
  {
   "cell_type": "code",
   "execution_count": 1,
   "metadata": {},
   "outputs": [
    {
     "name": "stdout",
     "output_type": "stream",
     "text": [
      "/home/jcmint/anaconda3/envs/learningenv/bin/python\n"
     ]
    }
   ],
   "source": [
    "import sys, IPython\n",
    "print(sys.executable)\n",
    "from IPython.core.interactiveshell import InteractiveShell\n",
    "InteractiveShell.ast_node_interactivity = \"all\""
   ]
  },
  {
   "cell_type": "markdown",
   "metadata": {},
   "source": [
    "# Batch compiling \n",
    "Some simple bash commands to compile whatever file formats into html\n",
    "\n",
    "## Converting from `.ipynb` to `.md`\n",
    "First step is to convert all `.ipynb` files in the main directory and its subdirectories. This is necessary because nbconvert straight to html doesn't keep the page background color (solid black). Here I filter by file extension and recent modification date (past day)"
   ]
  },
  {
   "cell_type": "code",
   "execution_count": 2,
   "metadata": {},
   "outputs": [],
   "source": [
    "! cd ..; find . -name \"*.ipynb\" -mtime -1  -exec jupyter nbconvert --to markdown {} \\;\n",
    "#  ipynb"
   ]
  },
  {
   "cell_type": "markdown",
   "metadata": {},
   "source": [
    "## Converting from `.md` to `.html`\n",
    "\n",
    "The final step is convering all `.md` files that were recently modified. "
   ]
  },
  {
   "cell_type": "code",
   "execution_count": 3,
   "metadata": {},
   "outputs": [],
   "source": [
    "# ! cd ..;  find ./ -iname \"*.ipynb\" -mtime -1 -ls -exec sh -c 'pandoc ${0} -s -M -o ${0%.ipynb}.md' {} \\;"
   ]
  },
  {
   "cell_type": "code",
   "execution_count": 1,
   "metadata": {},
   "outputs": [
    {
     "name": "stdout",
     "output_type": "stream",
     "text": [
      "  1213322      4 -rwxrwxrwx   1 jcmint   jcmint       1450 May 10 04:03 ./notes/General/CS50x2019/basics.md\n",
      "  1161675      8 -rwxrwxrwx   1 jcmint   jcmint       6494 May 11 00:43 ./notes/Python/IntroCompThinkDataSci/unit3/unit3.md\n",
      "  1221583      4 -rwxrwxrwx   1 jcmint   jcmint       2028 May 10 04:31 ./site_updates/5_2019/11_5_2019.md\n",
      "  1157243      1 -rwxrwxrwx   1 jcmint   jcmint        577 May 11 00:52 ./site_updates/base.md\n",
      "  1157554      4 -rwxrwxrwx   1 jcmint   jcmint       1836 May 10 23:37 ./utils/01_BatchConversions.md\n"
     ]
    }
   ],
   "source": [
    "! cd ..;  find ./ -iname \"*.md\" -mtime -1 -ls -exec sh -c 'pandoc ${0} -s --toc --highlight-style breezedark -M date=\"`date \"+%B %e, %Y\"`\" -f markdown_strict+backtick_code_blocks+auto_identifiers  -t html  -o  ${0%.md}.html' {} \\;\n",
    "# -mtime -1"
   ]
  },
  {
   "cell_type": "code",
   "execution_count": null,
   "metadata": {},
   "outputs": [],
   "source": []
  }
 ],
 "metadata": {
  "kernelspec": {
   "display_name": "Python 3",
   "language": "python",
   "name": "python3"
  },
  "language_info": {
   "codemirror_mode": {
    "name": "ipython",
    "version": 3
   },
   "file_extension": ".py",
   "mimetype": "text/x-python",
   "name": "python",
   "nbconvert_exporter": "python",
   "pygments_lexer": "ipython3",
   "version": "3.7.2"
  }
 },
 "nbformat": 4,
 "nbformat_minor": 2
}
